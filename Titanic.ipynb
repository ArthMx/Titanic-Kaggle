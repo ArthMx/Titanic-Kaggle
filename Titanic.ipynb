{
 "cells": [
  {
   "cell_type": "code",
   "execution_count": 1,
   "metadata": {
    "collapsed": true
   },
   "outputs": [],
   "source": [
    "import numpy as np\n",
    "import pandas as pd\n",
    "import matplotlib.pyplot as plt\n",
    "import seaborn as sns\n",
    "%matplotlib inline"
   ]
  },
  {
   "cell_type": "markdown",
   "metadata": {},
   "source": [
    "### Loading the titanic dataset\n",
    "\n",
    "Available at : https://www.kaggle.com/c/titanic/data"
   ]
  },
  {
   "cell_type": "code",
   "execution_count": 2,
   "metadata": {
    "collapsed": true
   },
   "outputs": [],
   "source": [
    "titanic = pd.read_csv('Data/train.csv', index_col=0)\n",
    "titanic_submission = pd.read_csv('Data/test.csv', index_col=0)"
   ]
  },
  {
   "cell_type": "markdown",
   "metadata": {},
   "source": [
    "# 1. EDA"
   ]
  },
  {
   "cell_type": "markdown",
   "metadata": {},
   "source": [
    "## 1.1 Quick check of the data"
   ]
  },
  {
   "cell_type": "code",
   "execution_count": 3,
   "metadata": {},
   "outputs": [
    {
     "data": {
      "text/html": [
       "<div>\n",
       "<style>\n",
       "    .dataframe thead tr:only-child th {\n",
       "        text-align: right;\n",
       "    }\n",
       "\n",
       "    .dataframe thead th {\n",
       "        text-align: left;\n",
       "    }\n",
       "\n",
       "    .dataframe tbody tr th {\n",
       "        vertical-align: top;\n",
       "    }\n",
       "</style>\n",
       "<table border=\"1\" class=\"dataframe\">\n",
       "  <thead>\n",
       "    <tr style=\"text-align: right;\">\n",
       "      <th></th>\n",
       "      <th>Survived</th>\n",
       "      <th>Pclass</th>\n",
       "      <th>Name</th>\n",
       "      <th>Sex</th>\n",
       "      <th>Age</th>\n",
       "      <th>SibSp</th>\n",
       "      <th>Parch</th>\n",
       "      <th>Ticket</th>\n",
       "      <th>Fare</th>\n",
       "      <th>Cabin</th>\n",
       "      <th>Embarked</th>\n",
       "    </tr>\n",
       "    <tr>\n",
       "      <th>PassengerId</th>\n",
       "      <th></th>\n",
       "      <th></th>\n",
       "      <th></th>\n",
       "      <th></th>\n",
       "      <th></th>\n",
       "      <th></th>\n",
       "      <th></th>\n",
       "      <th></th>\n",
       "      <th></th>\n",
       "      <th></th>\n",
       "      <th></th>\n",
       "    </tr>\n",
       "  </thead>\n",
       "  <tbody>\n",
       "    <tr>\n",
       "      <th>1</th>\n",
       "      <td>0</td>\n",
       "      <td>3</td>\n",
       "      <td>Braund, Mr. Owen Harris</td>\n",
       "      <td>male</td>\n",
       "      <td>22.0</td>\n",
       "      <td>1</td>\n",
       "      <td>0</td>\n",
       "      <td>A/5 21171</td>\n",
       "      <td>7.2500</td>\n",
       "      <td>NaN</td>\n",
       "      <td>S</td>\n",
       "    </tr>\n",
       "    <tr>\n",
       "      <th>2</th>\n",
       "      <td>1</td>\n",
       "      <td>1</td>\n",
       "      <td>Cumings, Mrs. John Bradley (Florence Briggs Th...</td>\n",
       "      <td>female</td>\n",
       "      <td>38.0</td>\n",
       "      <td>1</td>\n",
       "      <td>0</td>\n",
       "      <td>PC 17599</td>\n",
       "      <td>71.2833</td>\n",
       "      <td>C85</td>\n",
       "      <td>C</td>\n",
       "    </tr>\n",
       "    <tr>\n",
       "      <th>3</th>\n",
       "      <td>1</td>\n",
       "      <td>3</td>\n",
       "      <td>Heikkinen, Miss. Laina</td>\n",
       "      <td>female</td>\n",
       "      <td>26.0</td>\n",
       "      <td>0</td>\n",
       "      <td>0</td>\n",
       "      <td>STON/O2. 3101282</td>\n",
       "      <td>7.9250</td>\n",
       "      <td>NaN</td>\n",
       "      <td>S</td>\n",
       "    </tr>\n",
       "    <tr>\n",
       "      <th>4</th>\n",
       "      <td>1</td>\n",
       "      <td>1</td>\n",
       "      <td>Futrelle, Mrs. Jacques Heath (Lily May Peel)</td>\n",
       "      <td>female</td>\n",
       "      <td>35.0</td>\n",
       "      <td>1</td>\n",
       "      <td>0</td>\n",
       "      <td>113803</td>\n",
       "      <td>53.1000</td>\n",
       "      <td>C123</td>\n",
       "      <td>S</td>\n",
       "    </tr>\n",
       "    <tr>\n",
       "      <th>5</th>\n",
       "      <td>0</td>\n",
       "      <td>3</td>\n",
       "      <td>Allen, Mr. William Henry</td>\n",
       "      <td>male</td>\n",
       "      <td>35.0</td>\n",
       "      <td>0</td>\n",
       "      <td>0</td>\n",
       "      <td>373450</td>\n",
       "      <td>8.0500</td>\n",
       "      <td>NaN</td>\n",
       "      <td>S</td>\n",
       "    </tr>\n",
       "  </tbody>\n",
       "</table>\n",
       "</div>"
      ],
      "text/plain": [
       "             Survived  Pclass  \\\n",
       "PassengerId                     \n",
       "1                   0       3   \n",
       "2                   1       1   \n",
       "3                   1       3   \n",
       "4                   1       1   \n",
       "5                   0       3   \n",
       "\n",
       "                                                          Name     Sex   Age  \\\n",
       "PassengerId                                                                    \n",
       "1                                      Braund, Mr. Owen Harris    male  22.0   \n",
       "2            Cumings, Mrs. John Bradley (Florence Briggs Th...  female  38.0   \n",
       "3                                       Heikkinen, Miss. Laina  female  26.0   \n",
       "4                 Futrelle, Mrs. Jacques Heath (Lily May Peel)  female  35.0   \n",
       "5                                     Allen, Mr. William Henry    male  35.0   \n",
       "\n",
       "             SibSp  Parch            Ticket     Fare Cabin Embarked  \n",
       "PassengerId                                                          \n",
       "1                1      0         A/5 21171   7.2500   NaN        S  \n",
       "2                1      0          PC 17599  71.2833   C85        C  \n",
       "3                0      0  STON/O2. 3101282   7.9250   NaN        S  \n",
       "4                1      0            113803  53.1000  C123        S  \n",
       "5                0      0            373450   8.0500   NaN        S  "
      ]
     },
     "execution_count": 3,
     "metadata": {},
     "output_type": "execute_result"
    }
   ],
   "source": [
    "titanic.head()"
   ]
  },
  {
   "cell_type": "code",
   "execution_count": 4,
   "metadata": {
    "scrolled": false
   },
   "outputs": [
    {
     "name": "stdout",
     "output_type": "stream",
     "text": [
      "<class 'pandas.core.frame.DataFrame'>\n",
      "Int64Index: 891 entries, 1 to 891\n",
      "Data columns (total 11 columns):\n",
      "Survived    891 non-null int64\n",
      "Pclass      891 non-null int64\n",
      "Name        891 non-null object\n",
      "Sex         891 non-null object\n",
      "Age         714 non-null float64\n",
      "SibSp       891 non-null int64\n",
      "Parch       891 non-null int64\n",
      "Ticket      891 non-null object\n",
      "Fare        891 non-null float64\n",
      "Cabin       204 non-null object\n",
      "Embarked    889 non-null object\n",
      "dtypes: float64(2), int64(4), object(5)\n",
      "memory usage: 83.5+ KB\n"
     ]
    }
   ],
   "source": [
    "titanic.info()"
   ]
  },
  {
   "cell_type": "markdown",
   "metadata": {},
   "source": [
    "We see that there is some missing values, let's see it in more details :"
   ]
  },
  {
   "cell_type": "code",
   "execution_count": 5,
   "metadata": {},
   "outputs": [
    {
     "data": {
      "text/html": [
       "<div>\n",
       "<style>\n",
       "    .dataframe thead tr:only-child th {\n",
       "        text-align: right;\n",
       "    }\n",
       "\n",
       "    .dataframe thead th {\n",
       "        text-align: left;\n",
       "    }\n",
       "\n",
       "    .dataframe tbody tr th {\n",
       "        vertical-align: top;\n",
       "    }\n",
       "</style>\n",
       "<table border=\"1\" class=\"dataframe\">\n",
       "  <thead>\n",
       "    <tr style=\"text-align: right;\">\n",
       "      <th></th>\n",
       "      <th>Nan_count</th>\n",
       "      <th>Nan_pct</th>\n",
       "    </tr>\n",
       "  </thead>\n",
       "  <tbody>\n",
       "    <tr>\n",
       "      <th>Cabin</th>\n",
       "      <td>687</td>\n",
       "      <td>77.10</td>\n",
       "    </tr>\n",
       "    <tr>\n",
       "      <th>Age</th>\n",
       "      <td>177</td>\n",
       "      <td>19.87</td>\n",
       "    </tr>\n",
       "    <tr>\n",
       "      <th>Embarked</th>\n",
       "      <td>2</td>\n",
       "      <td>0.22</td>\n",
       "    </tr>\n",
       "  </tbody>\n",
       "</table>\n",
       "</div>"
      ],
      "text/plain": [
       "          Nan_count  Nan_pct\n",
       "Cabin           687    77.10\n",
       "Age             177    19.87\n",
       "Embarked          2     0.22"
      ]
     },
     "execution_count": 5,
     "metadata": {},
     "output_type": "execute_result"
    }
   ],
   "source": [
    "nan_count = titanic.isnull().sum().sort_values(ascending=False)\n",
    "nan_count = nan_count[nan_count!=0]\n",
    "nan_pct = nan_count/len(titanic)*100\n",
    "\n",
    "nan_df = pd.DataFrame({'Nan_count':nan_count, 'Nan_pct':nan_pct.round(2)})\n",
    "nan_df"
   ]
  },
  {
   "cell_type": "markdown",
   "metadata": {},
   "source": [
    "* For the **Embarked** variable, only 2 values are missing, we could choose to drop these rows or to impute the mode (most frequent value) to these two rows.\n",
    "\n",
    "* The **Age** variable has a lot of missing values, but we can't choose to drop it because it is an important feature, as we'll see.\n",
    "\n",
    "* The **Cabin** variable must be dropped, it has way too much missing values.\n",
    "\n",
    "Next, let's check if the Ticket variable can give us some useful information"
   ]
  },
  {
   "cell_type": "code",
   "execution_count": 6,
   "metadata": {},
   "outputs": [
    {
     "data": {
      "text/plain": [
       "681"
      ]
     },
     "execution_count": 6,
     "metadata": {},
     "output_type": "execute_result"
    }
   ],
   "source": [
    "# number of unique values for Ticket\n",
    "titanic.Ticket.nunique()"
   ]
  },
  {
   "cell_type": "code",
   "execution_count": 7,
   "metadata": {},
   "outputs": [
    {
     "data": {
      "text/plain": [
       "CA. 2343        7\n",
       "1601            7\n",
       "347082          7\n",
       "CA 2144         6\n",
       "3101295         6\n",
       "347088          6\n",
       "382652          5\n",
       "S.O.C. 14879    5\n",
       "PC 17757        4\n",
       "LINE            4\n",
       "Name: Ticket, dtype: int64"
      ]
     },
     "execution_count": 7,
     "metadata": {},
     "output_type": "execute_result"
    }
   ],
   "source": [
    "# most frequent values for Ticket\n",
    "titanic.Ticket.value_counts().head(10)"
   ]
  },
  {
   "cell_type": "markdown",
   "metadata": {},
   "source": [
    "We see that we won't get anything useful from this variable, we can drop it."
   ]
  },
  {
   "cell_type": "markdown",
   "metadata": {},
   "source": [
    "### Survived frequency count"
   ]
  },
  {
   "cell_type": "code",
   "execution_count": 8,
   "metadata": {},
   "outputs": [
    {
     "data": {
      "text/plain": [
       "0    549\n",
       "1    342\n",
       "Name: Survived, dtype: int64"
      ]
     },
     "execution_count": 8,
     "metadata": {},
     "output_type": "execute_result"
    }
   ],
   "source": [
    "titanic.Survived.value_counts()"
   ]
  },
  {
   "cell_type": "markdown",
   "metadata": {},
   "source": [
    "It's always important to check if the value counts of the target variable are not too unbalanced. Here, it's not too unbalanced."
   ]
  },
  {
   "cell_type": "markdown",
   "metadata": {},
   "source": [
    "## 1.2 Data visualisation"
   ]
  },
  {
   "cell_type": "code",
   "execution_count": 9,
   "metadata": {},
   "outputs": [
    {
     "data": {
      "text/html": [
       "<div>\n",
       "<style>\n",
       "    .dataframe thead tr:only-child th {\n",
       "        text-align: right;\n",
       "    }\n",
       "\n",
       "    .dataframe thead th {\n",
       "        text-align: left;\n",
       "    }\n",
       "\n",
       "    .dataframe tbody tr th {\n",
       "        vertical-align: top;\n",
       "    }\n",
       "</style>\n",
       "<table border=\"1\" class=\"dataframe\">\n",
       "  <thead>\n",
       "    <tr style=\"text-align: right;\">\n",
       "      <th></th>\n",
       "      <th>Survived</th>\n",
       "      <th>Pclass</th>\n",
       "      <th>Name</th>\n",
       "      <th>Sex</th>\n",
       "      <th>Age</th>\n",
       "      <th>SibSp</th>\n",
       "      <th>Parch</th>\n",
       "      <th>Ticket</th>\n",
       "      <th>Fare</th>\n",
       "      <th>Cabin</th>\n",
       "      <th>Embarked</th>\n",
       "    </tr>\n",
       "    <tr>\n",
       "      <th>PassengerId</th>\n",
       "      <th></th>\n",
       "      <th></th>\n",
       "      <th></th>\n",
       "      <th></th>\n",
       "      <th></th>\n",
       "      <th></th>\n",
       "      <th></th>\n",
       "      <th></th>\n",
       "      <th></th>\n",
       "      <th></th>\n",
       "      <th></th>\n",
       "    </tr>\n",
       "  </thead>\n",
       "  <tbody>\n",
       "    <tr>\n",
       "      <th>1</th>\n",
       "      <td>0</td>\n",
       "      <td>3</td>\n",
       "      <td>Braund, Mr. Owen Harris</td>\n",
       "      <td>male</td>\n",
       "      <td>22.0</td>\n",
       "      <td>1</td>\n",
       "      <td>0</td>\n",
       "      <td>A/5 21171</td>\n",
       "      <td>7.2500</td>\n",
       "      <td>NaN</td>\n",
       "      <td>S</td>\n",
       "    </tr>\n",
       "    <tr>\n",
       "      <th>2</th>\n",
       "      <td>1</td>\n",
       "      <td>1</td>\n",
       "      <td>Cumings, Mrs. John Bradley (Florence Briggs Th...</td>\n",
       "      <td>female</td>\n",
       "      <td>38.0</td>\n",
       "      <td>1</td>\n",
       "      <td>0</td>\n",
       "      <td>PC 17599</td>\n",
       "      <td>71.2833</td>\n",
       "      <td>C85</td>\n",
       "      <td>C</td>\n",
       "    </tr>\n",
       "    <tr>\n",
       "      <th>3</th>\n",
       "      <td>1</td>\n",
       "      <td>3</td>\n",
       "      <td>Heikkinen, Miss. Laina</td>\n",
       "      <td>female</td>\n",
       "      <td>26.0</td>\n",
       "      <td>0</td>\n",
       "      <td>0</td>\n",
       "      <td>STON/O2. 3101282</td>\n",
       "      <td>7.9250</td>\n",
       "      <td>NaN</td>\n",
       "      <td>S</td>\n",
       "    </tr>\n",
       "    <tr>\n",
       "      <th>4</th>\n",
       "      <td>1</td>\n",
       "      <td>1</td>\n",
       "      <td>Futrelle, Mrs. Jacques Heath (Lily May Peel)</td>\n",
       "      <td>female</td>\n",
       "      <td>35.0</td>\n",
       "      <td>1</td>\n",
       "      <td>0</td>\n",
       "      <td>113803</td>\n",
       "      <td>53.1000</td>\n",
       "      <td>C123</td>\n",
       "      <td>S</td>\n",
       "    </tr>\n",
       "    <tr>\n",
       "      <th>5</th>\n",
       "      <td>0</td>\n",
       "      <td>3</td>\n",
       "      <td>Allen, Mr. William Henry</td>\n",
       "      <td>male</td>\n",
       "      <td>35.0</td>\n",
       "      <td>0</td>\n",
       "      <td>0</td>\n",
       "      <td>373450</td>\n",
       "      <td>8.0500</td>\n",
       "      <td>NaN</td>\n",
       "      <td>S</td>\n",
       "    </tr>\n",
       "  </tbody>\n",
       "</table>\n",
       "</div>"
      ],
      "text/plain": [
       "             Survived  Pclass  \\\n",
       "PassengerId                     \n",
       "1                   0       3   \n",
       "2                   1       1   \n",
       "3                   1       3   \n",
       "4                   1       1   \n",
       "5                   0       3   \n",
       "\n",
       "                                                          Name     Sex   Age  \\\n",
       "PassengerId                                                                    \n",
       "1                                      Braund, Mr. Owen Harris    male  22.0   \n",
       "2            Cumings, Mrs. John Bradley (Florence Briggs Th...  female  38.0   \n",
       "3                                       Heikkinen, Miss. Laina  female  26.0   \n",
       "4                 Futrelle, Mrs. Jacques Heath (Lily May Peel)  female  35.0   \n",
       "5                                     Allen, Mr. William Henry    male  35.0   \n",
       "\n",
       "             SibSp  Parch            Ticket     Fare Cabin Embarked  \n",
       "PassengerId                                                          \n",
       "1                1      0         A/5 21171   7.2500   NaN        S  \n",
       "2                1      0          PC 17599  71.2833   C85        C  \n",
       "3                0      0  STON/O2. 3101282   7.9250   NaN        S  \n",
       "4                1      0            113803  53.1000  C123        S  \n",
       "5                0      0            373450   8.0500   NaN        S  "
      ]
     },
     "execution_count": 9,
     "metadata": {},
     "output_type": "execute_result"
    }
   ],
   "source": [
    "# I do a copy of the dataset, to experiment some transformation on the copy\n",
    "df = titanic.copy()\n",
    "df.head()"
   ]
  },
  {
   "cell_type": "markdown",
   "metadata": {},
   "source": [
    "### Pclass and Sex\n",
    "\n",
    "It's quite obvious to think that the higher class passengers were more likely to survive, let's check it."
   ]
  },
  {
   "cell_type": "code",
   "execution_count": 10,
   "metadata": {
    "scrolled": true
   },
   "outputs": [
    {
     "data": {
      "image/png": "[encoded data removed]",
      "text/plain": [
       "<matplotlib.figure.Figure at 0x2723ed6d780>"
      ]
     },
     "metadata": {},
     "output_type": "display_data"
    }
   ],
   "source": [
    "plt.figure(figsize=(10,5))\n",
    "sns.barplot('Pclass', 'Survived', data=df, hue='Sex')\n",
    "plt.title('Survival rate across the classes for men and women', fontsize=16);"
   ]
  },
  {
   "cell_type": "code",
   "execution_count": 11,
   "metadata": {},
   "outputs": [
    {
     "data": {
      "image/png": "[encoded data removed]",
      "text/plain": [
       "<matplotlib.figure.Figure at 0x2723ed2ffd0>"
      ]
     },
     "metadata": {},
     "output_type": "display_data"
    }
   ],
   "source": [
    "plt.figure(figsize=(10,5))\n",
    "sns.countplot('Pclass', data=df, hue='Sex')\n",
    "plt.title('Count of passenger for the different classes and sex', fontsize=16);"
   ]
  },
  {
   "cell_type": "code",
   "execution_count": 12,
   "metadata": {},
   "outputs": [
    {
     "data": {
      "image/png": "[encoded data removed]",
      "text/plain": [
       "<matplotlib.figure.Figure at 0x272385e7dd8>"
      ]
     },
     "metadata": {},
     "output_type": "display_data"
    }
   ],
   "source": [
    "survived_df = df.query('Survived==1')\n",
    "dead_df = df.query('Survived==0')\n",
    "\n",
    "fig, axes = plt.subplots(1,2)\n",
    "fig.set_size_inches(15,5)\n",
    "\n",
    "sns.countplot('Sex', data=survived_df, hue='Pclass', ax=axes[0])\n",
    "sns.countplot('Sex', data=dead_df, hue='Pclass', ax=axes[1])\n",
    "\n",
    "axes[0].set_title('Count of passenger alive')\n",
    "axes[1].set_title('Count of passenger dead');"
   ]
  },
  {
   "cell_type": "markdown",
   "metadata": {},
   "source": [
    "We can see from these plots (particularly, the first one, about the rate of survival), that class and sex were very important about the survival rate of the passengers. An other clear display of this, is the frequency table, below."
   ]
  },
  {
   "cell_type": "code",
   "execution_count": 13,
   "metadata": {},
   "outputs": [
    {
     "data": {
      "text/html": [
       "<div>\n",
       "<style>\n",
       "    .dataframe thead tr:only-child th {\n",
       "        text-align: right;\n",
       "    }\n",
       "\n",
       "    .dataframe thead th {\n",
       "        text-align: left;\n",
       "    }\n",
       "\n",
       "    .dataframe tbody tr th {\n",
       "        vertical-align: top;\n",
       "    }\n",
       "</style>\n",
       "<table border=\"1\" class=\"dataframe\">\n",
       "  <thead>\n",
       "    <tr style=\"text-align: right;\">\n",
       "      <th>Sex</th>\n",
       "      <th>female</th>\n",
       "      <th>male</th>\n",
       "    </tr>\n",
       "    <tr>\n",
       "      <th>Pclass</th>\n",
       "      <th></th>\n",
       "      <th></th>\n",
       "    </tr>\n",
       "  </thead>\n",
       "  <tbody>\n",
       "    <tr>\n",
       "      <th>1</th>\n",
       "      <td>0.968085</td>\n",
       "      <td>0.368852</td>\n",
       "    </tr>\n",
       "    <tr>\n",
       "      <th>2</th>\n",
       "      <td>0.921053</td>\n",
       "      <td>0.157407</td>\n",
       "    </tr>\n",
       "    <tr>\n",
       "      <th>3</th>\n",
       "      <td>0.500000</td>\n",
       "      <td>0.135447</td>\n",
       "    </tr>\n",
       "  </tbody>\n",
       "</table>\n",
       "</div>"
      ],
      "text/plain": [
       "Sex       female      male\n",
       "Pclass                    \n",
       "1       0.968085  0.368852\n",
       "2       0.921053  0.157407\n",
       "3       0.500000  0.135447"
      ]
     },
     "execution_count": 13,
     "metadata": {},
     "output_type": "execute_result"
    }
   ],
   "source": [
    "df.groupby(['Pclass', 'Sex']).Survived.mean().unstack()"
   ]
  },
  {
   "cell_type": "markdown",
   "metadata": {},
   "source": [
    "An interesting question to ask ourselve : What is the accuracy of our prediction if we state that every women survived, and every men died ?"
   ]
  },
  {
   "cell_type": "code",
   "execution_count": 14,
   "metadata": {},
   "outputs": [
    {
     "data": {
      "text/plain": [
       "0.78675645342312006"
      ]
     },
     "execution_count": 14,
     "metadata": {},
     "output_type": "execute_result"
    }
   ],
   "source": [
    "simple_prediction = df.Sex == 'female'\n",
    "\n",
    "simple_prediction_acc = (simple_prediction == df.Survived).mean()\n",
    "simple_prediction_acc"
   ]
  },
  {
   "cell_type": "markdown",
   "metadata": {},
   "source": [
    "Incredible ! 78 % of our predictions are right ! But this value isn't right, because our accuracy is measured on the same dataset used to make our simple model. We can get a better measure of the accuracy of this model by applying it to the test set for the Kaggle competition, and check the result."
   ]
  },
  {
   "cell_type": "code",
   "execution_count": 15,
   "metadata": {
    "collapsed": true
   },
   "outputs": [],
   "source": [
    "titanic_submission_pred = (titanic_submission.Sex == 'female')*1\n",
    "\n",
    "submission_df = pd.DataFrame({'Survived': titanic_submission_pred})\n",
    "submission_df.to_csv('Data/simple_submission.csv')"
   ]
  },
  {
   "cell_type": "markdown",
   "metadata": {},
   "source": [
    "This submission get us 0.76555 of accuracy score. We can use this as a landmark, any model not giving better results than this, is just crap... if the goal is plain and simple accuracy."
   ]
  },
  {
   "cell_type": "markdown",
   "metadata": {},
   "source": [
    "### Embarked"
   ]
  },
  {
   "cell_type": "code",
   "execution_count": 16,
   "metadata": {},
   "outputs": [
    {
     "data": {
      "image/png": "[encoded data removed]",
      "text/plain": [
       "<matplotlib.figure.Figure at 0x272385fa080>"
      ]
     },
     "metadata": {},
     "output_type": "display_data"
    }
   ],
   "source": [
    "sns.countplot(df.Embarked);"
   ]
  },
  {
   "cell_type": "code",
   "execution_count": 17,
   "metadata": {},
   "outputs": [
    {
     "data": {
      "image/png": "[encoded data removed]",
      "text/plain": [
       "<matplotlib.figure.Figure at 0x2723f0ccc88>"
      ]
     },
     "metadata": {},
     "output_type": "display_data"
    }
   ],
   "source": [
    "sns.barplot('Embarked', 'Survived', data=df);"
   ]
  },
  {
   "cell_type": "markdown",
   "metadata": {},
   "source": [
    "It's clear that there is a significant difference of the survival rate across the three Embarked groups, but it's not so clear if the survival rate for Q is significantly different than for C and S. We can do an independant t-test to check this."
   ]
  },
  {
   "cell_type": "code",
   "execution_count": 18,
   "metadata": {
    "scrolled": true
   },
   "outputs": [
    {
     "data": {
      "text/html": [
       "<div>\n",
       "<style>\n",
       "    .dataframe thead tr:only-child th {\n",
       "        text-align: right;\n",
       "    }\n",
       "\n",
       "    .dataframe thead th {\n",
       "        text-align: left;\n",
       "    }\n",
       "\n",
       "    .dataframe tbody tr th {\n",
       "        vertical-align: top;\n",
       "    }\n",
       "</style>\n",
       "<table border=\"1\" class=\"dataframe\">\n",
       "  <thead>\n",
       "    <tr style=\"text-align: right;\">\n",
       "      <th></th>\n",
       "      <th>t</th>\n",
       "      <th>p</th>\n",
       "    </tr>\n",
       "  </thead>\n",
       "  <tbody>\n",
       "    <tr>\n",
       "      <th>S_C</th>\n",
       "      <td>-5.22634</td>\n",
       "      <td>2.20144e-07</td>\n",
       "    </tr>\n",
       "    <tr>\n",
       "      <th>C_Q</th>\n",
       "      <td>2.40106</td>\n",
       "      <td>0.0171001</td>\n",
       "    </tr>\n",
       "    <tr>\n",
       "      <th>S_Q</th>\n",
       "      <td>-0.919392</td>\n",
       "      <td>0.358199</td>\n",
       "    </tr>\n",
       "  </tbody>\n",
       "</table>\n",
       "</div>"
      ],
      "text/plain": [
       "            t            p\n",
       "S_C  -5.22634  2.20144e-07\n",
       "C_Q   2.40106    0.0171001\n",
       "S_Q -0.919392     0.358199"
      ]
     },
     "execution_count": 18,
     "metadata": {},
     "output_type": "execute_result"
    }
   ],
   "source": [
    "from scipy.stats import ttest_ind\n",
    "\n",
    "def multiple_ind_ttest(groups_dict):\n",
    "    '''\n",
    "    input : dictionnary of groups to be indenpent t-tested \n",
    "            keys : string : name of group\n",
    "            values : groups (list, array or serie)\n",
    "    --------------------\n",
    "    output : DataFrame with t statistic and p-value\n",
    "    '''\n",
    "    keys = list(groups_dict.keys())\n",
    "    t_test_df = pd.DataFrame(columns=['t', 'p'])\n",
    "\n",
    "    for i, group_1 in enumerate(keys):\n",
    "        for group_2 in keys[i+1:]:\n",
    "            if group_1 != group_2:\n",
    "                t, p = ttest_ind(groups_dict[group_1], groups_dict[group_2])\n",
    "                t_test_df.loc[group_1+'_'+group_2, 't'] = t\n",
    "                t_test_df.loc[group_1+'_'+group_2, 'p'] = p\n",
    "    \n",
    "    return t_test_df.sort_values(by='p')\n",
    "\n",
    "S_survived = df.loc[df['Embarked']=='S', 'Survived']\n",
    "C_survived = df.loc[df['Embarked']=='C', 'Survived']\n",
    "Q_survived = df.loc[df['Embarked']=='Q', 'Survived']\n",
    "\n",
    "groups_dict = {'S':S_survived, 'C':C_survived, 'Q':Q_survived}\n",
    "\n",
    "multiple_ind_ttest(groups_dict)"
   ]
  },
  {
   "cell_type": "markdown",
   "metadata": {},
   "source": [
    "There is no significant difference of survival rate between the group **S** and **Q**, so, we could choose to fuse these two categories together."
   ]
  },
  {
   "cell_type": "markdown",
   "metadata": {},
   "source": [
    "### Age"
   ]
  },
  {
   "cell_type": "code",
   "execution_count": 19,
   "metadata": {},
   "outputs": [
    {
     "data": {
      "image/png": "[encoded data removed]",
      "text/plain": [
       "<matplotlib.figure.Figure at 0x2723f2e07f0>"
      ]
     },
     "metadata": {},
     "output_type": "display_data"
    }
   ],
   "source": [
    "plt.figure(figsize=(8,5))\n",
    "sns.boxplot('Survived', 'Age', data=df)\n",
    "plt.title('Boxplot of the Age of passenger, grouped by Survival outcome');"
   ]
  },
  {
   "cell_type": "markdown",
   "metadata": {},
   "source": [
    "This doesn't show any significant difference in the distribution of Age, for the two Survived groups."
   ]
  },
  {
   "cell_type": "code",
   "execution_count": 20,
   "metadata": {},
   "outputs": [
    {
     "data": {
      "image/png": "[encoded data removed]",
      "text/plain": [
       "<matplotlib.figure.Figure at 0x2723ee481d0>"
      ]
     },
     "metadata": {},
     "output_type": "display_data"
    }
   ],
   "source": [
    "plt.figure(figsize=(10,5))\n",
    "df.groupby('Survived').Age.plot(kind='kde', alpha=0.5)\n",
    "plt.xlim([0,80])\n",
    "plt.legend(['Dead','Survived'])\n",
    "plt.title('Distribution of the Age, for the survived and dead passenger');"
   ]
  },
  {
   "cell_type": "markdown",
   "metadata": {},
   "source": [
    "We see that above ~35 years, the distribution is very similar for the two outcome. We could transform this numerical variable into a categorical variable, by binning it, for example : [0,15), [15,30),[30,)"
   ]
  },
  {
   "cell_type": "markdown",
   "metadata": {},
   "source": [
    "### Fare"
   ]
  },
  {
   "cell_type": "code",
   "execution_count": 21,
   "metadata": {
    "scrolled": true
   },
   "outputs": [
    {
     "data": {
      "image/png": "[encoded data removed]",
      "text/plain": [
       "<matplotlib.figure.Figure at 0x2723f2e0e10>"
      ]
     },
     "metadata": {},
     "output_type": "display_data"
    }
   ],
   "source": [
    "plt.figure(figsize=(8,5))\n",
    "sns.boxplot('Survived', 'Fare', data=df)\n",
    "plt.title('Boxplot of the Fare of passenger, grouped by Survival outcome');"
   ]
  },
  {
   "cell_type": "markdown",
   "metadata": {},
   "source": [
    "There is a lot of outliers, let's change the y limit of the plot to have a better view of the distribution."
   ]
  },
  {
   "cell_type": "code",
   "execution_count": 22,
   "metadata": {
    "scrolled": true
   },
   "outputs": [
    {
     "data": {
      "image/png": "[encoded data removed]",
      "text/plain": [
       "<matplotlib.figure.Figure at 0x2723ee40198>"
      ]
     },
     "metadata": {},
     "output_type": "display_data"
    }
   ],
   "source": [
    "plt.figure(figsize=(8,5))\n",
    "sns.boxplot('Survived', 'Fare', data=df)\n",
    "plt.ylim([0,150])\n",
    "plt.title('Boxplot of the Fare of passenger, grouped by Survival outcome');"
   ]
  },
  {
   "cell_type": "markdown",
   "metadata": {},
   "source": [
    "There is a clear difference, people who survived paid an higher fare."
   ]
  },
  {
   "cell_type": "code",
   "execution_count": 23,
   "metadata": {},
   "outputs": [
    {
     "data": {
      "image/png": "[encoded data removed]",
      "text/plain": [
       "<matplotlib.figure.Figure at 0x2723f3a66d8>"
      ]
     },
     "metadata": {},
     "output_type": "display_data"
    }
   ],
   "source": [
    "plt.figure(figsize=(10,5))\n",
    "df.groupby('Survived').Fare.plot(kind='kde', alpha=0.5)\n",
    "plt.xlim([0,80])\n",
    "plt.legend(['Dead','Survived'])\n",
    "plt.title('Distribution of the Fare, for the survived and dead passenger');"
   ]
  },
  {
   "cell_type": "markdown",
   "metadata": {},
   "source": [
    "We could transform this variable into a categorical one, with bins : [0,30), [30,)"
   ]
  },
  {
   "cell_type": "markdown",
   "metadata": {},
   "source": [
    "### SibSp and Parch"
   ]
  },
  {
   "cell_type": "markdown",
   "metadata": {},
   "source": [
    "**SibSp** and **Parch** refers respectively to the numbers of siblings/spouses aboard the Titanic and the number of parents/children aboard the Titanic.\n",
    "\n",
    "It's not very obvious at first think if these variable are useful, let's explore it."
   ]
  },
  {
   "cell_type": "code",
   "execution_count": 24,
   "metadata": {},
   "outputs": [
    {
     "data": {
      "text/plain": [
       "0    608\n",
       "1    209\n",
       "2     28\n",
       "4     18\n",
       "3     16\n",
       "8      7\n",
       "5      5\n",
       "Name: SibSp, dtype: int64"
      ]
     },
     "execution_count": 24,
     "metadata": {},
     "output_type": "execute_result"
    }
   ],
   "source": [
    "df.SibSp.value_counts()"
   ]
  },
  {
   "cell_type": "code",
   "execution_count": 25,
   "metadata": {
    "scrolled": true
   },
   "outputs": [
    {
     "data": {
      "text/plain": [
       "SibSp\n",
       "0    0.345395\n",
       "1    0.535885\n",
       "2    0.464286\n",
       "3    0.250000\n",
       "4    0.166667\n",
       "5    0.000000\n",
       "8    0.000000\n",
       "Name: Survived, dtype: float64"
      ]
     },
     "execution_count": 25,
     "metadata": {},
     "output_type": "execute_result"
    }
   ],
   "source": [
    "df.groupby('SibSp').Survived.mean()"
   ]
  },
  {
   "cell_type": "code",
   "execution_count": 26,
   "metadata": {
    "scrolled": true
   },
   "outputs": [
    {
     "data": {
      "text/plain": [
       "0    678\n",
       "1    118\n",
       "2     80\n",
       "5      5\n",
       "3      5\n",
       "4      4\n",
       "6      1\n",
       "Name: Parch, dtype: int64"
      ]
     },
     "execution_count": 26,
     "metadata": {},
     "output_type": "execute_result"
    }
   ],
   "source": [
    "df.Parch.value_counts()"
   ]
  },
  {
   "cell_type": "code",
   "execution_count": 27,
   "metadata": {},
   "outputs": [
    {
     "data": {
      "text/plain": [
       "Parch\n",
       "0    0.343658\n",
       "1    0.550847\n",
       "2    0.500000\n",
       "3    0.600000\n",
       "4    0.000000\n",
       "5    0.200000\n",
       "6    0.000000\n",
       "Name: Survived, dtype: float64"
      ]
     },
     "execution_count": 27,
     "metadata": {},
     "output_type": "execute_result"
    }
   ],
   "source": [
    "df.groupby('Parch').Survived.mean()"
   ]
  },
  {
   "cell_type": "markdown",
   "metadata": {},
   "source": [
    "We see some difference in survival rate between values of 0 and 1 or more for the variables **SibSp** and **Parch**. It could be interesting to add them together."
   ]
  },
  {
   "cell_type": "code",
   "execution_count": 28,
   "metadata": {},
   "outputs": [
    {
     "data": {
      "text/plain": [
       "0     537\n",
       "1     161\n",
       "2     102\n",
       "3      29\n",
       "5      22\n",
       "4      15\n",
       "6      12\n",
       "10      7\n",
       "7       6\n",
       "Name: Relatives, dtype: int64"
      ]
     },
     "execution_count": 28,
     "metadata": {},
     "output_type": "execute_result"
    }
   ],
   "source": [
    "df['Relatives'] = df.Parch + df.SibSp\n",
    "df.Relatives.value_counts()"
   ]
  },
  {
   "cell_type": "code",
   "execution_count": 29,
   "metadata": {
    "scrolled": false
   },
   "outputs": [
    {
     "data": {
      "text/plain": [
       "Relatives\n",
       "0     0.303538\n",
       "1     0.552795\n",
       "2     0.578431\n",
       "3     0.724138\n",
       "4     0.200000\n",
       "5     0.136364\n",
       "6     0.333333\n",
       "7     0.000000\n",
       "10    0.000000\n",
       "Name: Survived, dtype: float64"
      ]
     },
     "execution_count": 29,
     "metadata": {},
     "output_type": "execute_result"
    }
   ],
   "source": [
    "df.groupby(by='Relatives').Survived.mean()"
   ]
  },
  {
   "cell_type": "markdown",
   "metadata": {},
   "source": [
    "Let's do a t-test to help us how to group these different values."
   ]
  },
  {
   "cell_type": "code",
   "execution_count": 30,
   "metadata": {},
   "outputs": [
    {
     "data": {
      "text/html": [
       "<div>\n",
       "<style>\n",
       "    .dataframe thead tr:only-child th {\n",
       "        text-align: right;\n",
       "    }\n",
       "\n",
       "    .dataframe thead th {\n",
       "        text-align: left;\n",
       "    }\n",
       "\n",
       "    .dataframe tbody tr th {\n",
       "        vertical-align: top;\n",
       "    }\n",
       "</style>\n",
       "<table border=\"1\" class=\"dataframe\">\n",
       "  <thead>\n",
       "    <tr style=\"text-align: right;\">\n",
       "      <th></th>\n",
       "      <th>t</th>\n",
       "      <th>p</th>\n",
       "    </tr>\n",
       "  </thead>\n",
       "  <tbody>\n",
       "    <tr>\n",
       "      <th>rel_0_rel_1</th>\n",
       "      <td>-5.91042</td>\n",
       "      <td>5.34307e-09</td>\n",
       "    </tr>\n",
       "    <tr>\n",
       "      <th>rel_0_rel_2</th>\n",
       "      <td>-5.46021</td>\n",
       "      <td>6.82276e-08</td>\n",
       "    </tr>\n",
       "    <tr>\n",
       "      <th>rel_0_rel_3</th>\n",
       "      <td>-4.79663</td>\n",
       "      <td>2.06794e-06</td>\n",
       "    </tr>\n",
       "    <tr>\n",
       "      <th>rel_1_rel_3</th>\n",
       "      <td>-1.72474</td>\n",
       "      <td>0.0862171</td>\n",
       "    </tr>\n",
       "    <tr>\n",
       "      <th>rel_2_rel_3</th>\n",
       "      <td>-1.42008</td>\n",
       "      <td>0.157998</td>\n",
       "    </tr>\n",
       "    <tr>\n",
       "      <th>rel_1_rel_2</th>\n",
       "      <td>-0.406956</td>\n",
       "      <td>0.684374</td>\n",
       "    </tr>\n",
       "  </tbody>\n",
       "</table>\n",
       "</div>"
      ],
      "text/plain": [
       "                    t            p\n",
       "rel_0_rel_1  -5.91042  5.34307e-09\n",
       "rel_0_rel_2  -5.46021  6.82276e-08\n",
       "rel_0_rel_3  -4.79663  2.06794e-06\n",
       "rel_1_rel_3  -1.72474    0.0862171\n",
       "rel_2_rel_3  -1.42008     0.157998\n",
       "rel_1_rel_2 -0.406956     0.684374"
      ]
     },
     "execution_count": 30,
     "metadata": {},
     "output_type": "execute_result"
    }
   ],
   "source": [
    "# t-test\n",
    "relatives_dict = {}\n",
    "for i in range(4):\n",
    "    relatives_dict['rel_'+str(i)] = df.loc[df.Relatives == i, 'Survived']\n",
    "\n",
    "multiple_ind_ttest(relatives_dict)"
   ]
  },
  {
   "cell_type": "markdown",
   "metadata": {},
   "source": [
    "I think it's a good idea to discard both **SibSp** and **Parch**, because they both show a similar distribution, and keep only the new variable **Relatives**. We see for **Relatives** that the difference in survival rate is significant mostly for the value 0 vs the other value. We can change values to two categories : alone (0) and accompanied (values 1 and higher)."
   ]
  },
  {
   "cell_type": "markdown",
   "metadata": {},
   "source": [
    "### Name\n",
    "\n",
    "The only thing that could be useful here, is the title. The family wouldn't not be a good predictor, unless there is some very large families who all drown or survived together."
   ]
  },
  {
   "cell_type": "code",
   "execution_count": 31,
   "metadata": {},
   "outputs": [
    {
     "data": {
      "text/plain": [
       "PassengerId\n",
       "1                              Braund, Mr. Owen Harris\n",
       "2    Cumings, Mrs. John Bradley (Florence Briggs Th...\n",
       "3                               Heikkinen, Miss. Laina\n",
       "4         Futrelle, Mrs. Jacques Heath (Lily May Peel)\n",
       "5                             Allen, Mr. William Henry\n",
       "Name: Name, dtype: object"
      ]
     },
     "execution_count": 31,
     "metadata": {},
     "output_type": "execute_result"
    }
   ],
   "source": [
    "df.Name.head()"
   ]
  },
  {
   "cell_type": "code",
   "execution_count": 32,
   "metadata": {},
   "outputs": [
    {
     "data": {
      "text/plain": [
       "Mr              517\n",
       "Miss            182\n",
       "Mrs             125\n",
       "Master           40\n",
       "Dr                7\n",
       "Rev               6\n",
       "Major             2\n",
       "Col               2\n",
       "Mlle              2\n",
       "Jonkheer          1\n",
       "Ms                1\n",
       "Lady              1\n",
       "Sir               1\n",
       "Mme               1\n",
       "the Countess      1\n",
       "Capt              1\n",
       "Don               1\n",
       "Name: Name, dtype: int64"
      ]
     },
     "execution_count": 32,
     "metadata": {},
     "output_type": "execute_result"
    }
   ],
   "source": [
    "def get_title(name):\n",
    "    try:\n",
    "        name_list = name.split(sep=', ')\n",
    "        name_list2 = name_list[1].split(sep='.')\n",
    "        title = name_list2[0]\n",
    "    except:\n",
    "        title='None'\n",
    "    \n",
    "    return title\n",
    "\n",
    "titles = df.Name.map(get_title)\n",
    "titles.value_counts()"
   ]
  },
  {
   "cell_type": "markdown",
   "metadata": {},
   "source": [
    "We see 4 titles frequent enough to be used as categorical predictors, let's see if they have an effect on survival rate."
   ]
  },
  {
   "cell_type": "code",
   "execution_count": 33,
   "metadata": {},
   "outputs": [
    {
     "data": {
      "text/plain": [
       "Mr        517\n",
       "Miss      182\n",
       "Mrs       125\n",
       "Master     40\n",
       "None       27\n",
       "Name: Name, dtype: int64"
      ]
     },
     "execution_count": 33,
     "metadata": {},
     "output_type": "execute_result"
    }
   ],
   "source": [
    "# First I redefine the previous function to change less frequent title into a new category \n",
    "def get_title_2(name):\n",
    "    try:\n",
    "        name_list = name.split(sep=', ')\n",
    "        name_list2 = name_list[1].split(sep='.')\n",
    "        title = name_list2[0]\n",
    "    except:\n",
    "        title = 'None'\n",
    "    \n",
    "    if title not in ['Mr', 'Miss', 'Mrs', 'Master']:\n",
    "        title = 'None'\n",
    "    \n",
    "    return title\n",
    "\n",
    "titles = df.Name.map(get_title_2)\n",
    "titles.value_counts()"
   ]
  },
  {
   "cell_type": "code",
   "execution_count": 34,
   "metadata": {},
   "outputs": [
    {
     "data": {
      "text/plain": [
       "Title\n",
       "Master    0.575000\n",
       "Miss      0.697802\n",
       "Mr        0.156673\n",
       "Mrs       0.792000\n",
       "None      0.444444\n",
       "Name: Survived, dtype: float64"
      ]
     },
     "execution_count": 34,
     "metadata": {},
     "output_type": "execute_result"
    }
   ],
   "source": [
    "df['Title'] = titles\n",
    "df.groupby('Title').Survived.mean()"
   ]
  },
  {
   "cell_type": "markdown",
   "metadata": {},
   "source": [
    "T-test"
   ]
  },
  {
   "cell_type": "code",
   "execution_count": 35,
   "metadata": {},
   "outputs": [
    {
     "data": {
      "text/html": [
       "<div>\n",
       "<style>\n",
       "    .dataframe thead tr:only-child th {\n",
       "        text-align: right;\n",
       "    }\n",
       "\n",
       "    .dataframe thead th {\n",
       "        text-align: left;\n",
       "    }\n",
       "\n",
       "    .dataframe tbody tr th {\n",
       "        vertical-align: top;\n",
       "    }\n",
       "</style>\n",
       "<table border=\"1\" class=\"dataframe\">\n",
       "  <thead>\n",
       "    <tr style=\"text-align: right;\">\n",
       "      <th></th>\n",
       "      <th>t</th>\n",
       "      <th>p</th>\n",
       "    </tr>\n",
       "  </thead>\n",
       "  <tbody>\n",
       "    <tr>\n",
       "      <th>Mr_Mrs</th>\n",
       "      <td>-17.1027</td>\n",
       "      <td>2.74423e-54</td>\n",
       "    </tr>\n",
       "    <tr>\n",
       "      <th>Miss_Mr</th>\n",
       "      <td>16.0473</td>\n",
       "      <td>1.49776e-49</td>\n",
       "    </tr>\n",
       "    <tr>\n",
       "      <th>Master_Mr</th>\n",
       "      <td>6.7956</td>\n",
       "      <td>2.7892e-11</td>\n",
       "    </tr>\n",
       "    <tr>\n",
       "      <th>Mr_None</th>\n",
       "      <td>-3.91934</td>\n",
       "      <td>0.000100161</td>\n",
       "    </tr>\n",
       "    <tr>\n",
       "      <th>Mrs_None</th>\n",
       "      <td>3.84178</td>\n",
       "      <td>0.000179816</td>\n",
       "    </tr>\n",
       "    <tr>\n",
       "      <th>Master_Mrs</th>\n",
       "      <td>-2.76755</td>\n",
       "      <td>0.00630152</td>\n",
       "    </tr>\n",
       "    <tr>\n",
       "      <th>Miss_None</th>\n",
       "      <td>2.63352</td>\n",
       "      <td>0.00908843</td>\n",
       "    </tr>\n",
       "    <tr>\n",
       "      <th>Miss_Mrs</th>\n",
       "      <td>-1.84413</td>\n",
       "      <td>0.0661333</td>\n",
       "    </tr>\n",
       "    <tr>\n",
       "      <th>Master_Miss</th>\n",
       "      <td>-1.50311</td>\n",
       "      <td>0.134245</td>\n",
       "    </tr>\n",
       "    <tr>\n",
       "      <th>Master_None</th>\n",
       "      <td>1.04221</td>\n",
       "      <td>0.301177</td>\n",
       "    </tr>\n",
       "  </tbody>\n",
       "</table>\n",
       "</div>"
      ],
      "text/plain": [
       "                   t            p\n",
       "Mr_Mrs      -17.1027  2.74423e-54\n",
       "Miss_Mr      16.0473  1.49776e-49\n",
       "Master_Mr     6.7956   2.7892e-11\n",
       "Mr_None     -3.91934  0.000100161\n",
       "Mrs_None     3.84178  0.000179816\n",
       "Master_Mrs  -2.76755   0.00630152\n",
       "Miss_None    2.63352   0.00908843\n",
       "Miss_Mrs    -1.84413    0.0661333\n",
       "Master_Miss -1.50311     0.134245\n",
       "Master_None  1.04221     0.301177"
      ]
     },
     "execution_count": 35,
     "metadata": {},
     "output_type": "execute_result"
    }
   ],
   "source": [
    "master = df.loc[df.Title == 'Master', 'Survived']\n",
    "miss = df.loc[df.Title == 'Miss', 'Survived']\n",
    "mr = df.loc[df.Title == 'Mr', 'Survived']\n",
    "mrs = df.loc[df.Title == 'Mrs', 'Survived']\n",
    "none = df.loc[df.Title == 'None', 'Survived']\n",
    "\n",
    "title_dict = {'Master':master, 'Miss':miss, 'Mr':mr, 'Mrs':mrs, 'None':none}\n",
    "\n",
    "multiple_ind_ttest(title_dict)"
   ]
  },
  {
   "cell_type": "markdown",
   "metadata": {},
   "source": [
    "We see that that the title can be used as a predictor, but we must not forget that *Mr*, *Mrs* and *Miss* are both very correlated to the **Sex** variable, which means that it could not be very useful to use the five categories we just created."
   ]
  },
  {
   "cell_type": "markdown",
   "metadata": {
    "collapsed": true
   },
   "source": [
    "# 2. Data cleaning"
   ]
  },
  {
   "cell_type": "markdown",
   "metadata": {},
   "source": [
    "We now define a set of function to clean and transform our dataset like we did in the EDA."
   ]
  },
  {
   "cell_type": "code",
   "execution_count": 36,
   "metadata": {
    "scrolled": true
   },
   "outputs": [
    {
     "data": {
      "text/html": [
       "<div>\n",
       "<style>\n",
       "    .dataframe thead tr:only-child th {\n",
       "        text-align: right;\n",
       "    }\n",
       "\n",
       "    .dataframe thead th {\n",
       "        text-align: left;\n",
       "    }\n",
       "\n",
       "    .dataframe tbody tr th {\n",
       "        vertical-align: top;\n",
       "    }\n",
       "</style>\n",
       "<table border=\"1\" class=\"dataframe\">\n",
       "  <thead>\n",
       "    <tr style=\"text-align: right;\">\n",
       "      <th></th>\n",
       "      <th>Survived</th>\n",
       "      <th>Pclass</th>\n",
       "      <th>Sex</th>\n",
       "      <th>Age</th>\n",
       "      <th>Fare</th>\n",
       "      <th>Embarked</th>\n",
       "      <th>Relatives</th>\n",
       "      <th>Title</th>\n",
       "    </tr>\n",
       "    <tr>\n",
       "      <th>PassengerId</th>\n",
       "      <th></th>\n",
       "      <th></th>\n",
       "      <th></th>\n",
       "      <th></th>\n",
       "      <th></th>\n",
       "      <th></th>\n",
       "      <th></th>\n",
       "      <th></th>\n",
       "    </tr>\n",
       "  </thead>\n",
       "  <tbody>\n",
       "    <tr>\n",
       "      <th>1</th>\n",
       "      <td>0</td>\n",
       "      <td>3</td>\n",
       "      <td>male</td>\n",
       "      <td>(15.0, 30.0]</td>\n",
       "      <td>(-inf, 30.0]</td>\n",
       "      <td>Q/S</td>\n",
       "      <td>1</td>\n",
       "      <td>Mr</td>\n",
       "    </tr>\n",
       "    <tr>\n",
       "      <th>2</th>\n",
       "      <td>1</td>\n",
       "      <td>1</td>\n",
       "      <td>female</td>\n",
       "      <td>(30.0, inf]</td>\n",
       "      <td>(30.0, inf]</td>\n",
       "      <td>C</td>\n",
       "      <td>1</td>\n",
       "      <td>Mrs</td>\n",
       "    </tr>\n",
       "    <tr>\n",
       "      <th>3</th>\n",
       "      <td>1</td>\n",
       "      <td>3</td>\n",
       "      <td>female</td>\n",
       "      <td>(15.0, 30.0]</td>\n",
       "      <td>(-inf, 30.0]</td>\n",
       "      <td>Q/S</td>\n",
       "      <td>0</td>\n",
       "      <td>Miss</td>\n",
       "    </tr>\n",
       "    <tr>\n",
       "      <th>4</th>\n",
       "      <td>1</td>\n",
       "      <td>1</td>\n",
       "      <td>female</td>\n",
       "      <td>(30.0, inf]</td>\n",
       "      <td>(30.0, inf]</td>\n",
       "      <td>Q/S</td>\n",
       "      <td>1</td>\n",
       "      <td>Mrs</td>\n",
       "    </tr>\n",
       "    <tr>\n",
       "      <th>5</th>\n",
       "      <td>0</td>\n",
       "      <td>3</td>\n",
       "      <td>male</td>\n",
       "      <td>(30.0, inf]</td>\n",
       "      <td>(-inf, 30.0]</td>\n",
       "      <td>Q/S</td>\n",
       "      <td>0</td>\n",
       "      <td>Mr</td>\n",
       "    </tr>\n",
       "  </tbody>\n",
       "</table>\n",
       "</div>"
      ],
      "text/plain": [
       "             Survived  Pclass     Sex           Age          Fare Embarked  \\\n",
       "PassengerId                                                                  \n",
       "1                   0       3    male  (15.0, 30.0]  (-inf, 30.0]      Q/S   \n",
       "2                   1       1  female   (30.0, inf]   (30.0, inf]        C   \n",
       "3                   1       3  female  (15.0, 30.0]  (-inf, 30.0]      Q/S   \n",
       "4                   1       1  female   (30.0, inf]   (30.0, inf]      Q/S   \n",
       "5                   0       3    male   (30.0, inf]  (-inf, 30.0]      Q/S   \n",
       "\n",
       "             Relatives Title  \n",
       "PassengerId                   \n",
       "1                    1    Mr  \n",
       "2                    1   Mrs  \n",
       "3                    0  Miss  \n",
       "4                    1   Mrs  \n",
       "5                    0    Mr  "
      ]
     },
     "execution_count": 36,
     "metadata": {},
     "output_type": "execute_result"
    }
   ],
   "source": [
    "def fuse_cat_embarked(df):\n",
    "    '''\n",
    "    Fuse the values 'C' and 'S' into one category.\n",
    "    '''\n",
    "    df2 = df.copy()\n",
    "    df2.loc[df2['Embarked']=='Q', 'Embarked'] = 'Q/S'\n",
    "    df2.loc[df2['Embarked']=='S', 'Embarked'] = 'Q/S'\n",
    "    return df2\n",
    "\n",
    "def binning_age(df):\n",
    "    '''\n",
    "    Bin the Age variable into 3 bins : -inf, 15], (15,30], (30,inf\n",
    "    '''\n",
    "    df2 = df.copy()\n",
    "    df2['Age'] = pd.cut(df2['Age'], [-np.inf,15,30, np.inf])\n",
    "    return df2\n",
    "\n",
    "def binning_fare(df):\n",
    "    '''\n",
    "    Bin the Fare variable : -inf,30], (30,inf\n",
    "    '''\n",
    "    df2 = df.copy()\n",
    "    df2['Fare'] = pd.cut(df2['Fare'], [-np.inf, 30, np.inf])\n",
    "    return df2\n",
    "\n",
    "def relatives_transf(df):\n",
    "    '''\n",
    "    Transform the Parch and SibSp variable into one categorical variable Relatives,\n",
    "    with only two categories 0 : alone, 1 : not alone.\n",
    "    '''\n",
    "    df2 = df.copy()\n",
    "    df2['Relatives'] = df2.Parch + df2.SibSp\n",
    "    df2['Relatives'] = df2['Relatives'].where(df2['Relatives']==0, 1)\n",
    "    \n",
    "    df2 = df2.drop(['Parch', 'SibSp'], axis=1)\n",
    "    return df2\n",
    "\n",
    "def title_transf(df):\n",
    "    '''\n",
    "    Transform the Name variable into a new variable, Title, with 5 possible values : ['Mr', 'Miss', 'Mrs', 'Master', 'None]\n",
    "    '''\n",
    "    def get_title_2(name):\n",
    "        '''\n",
    "        Get the title from a name of a passenger of the Titanic\n",
    "        Return a value from ['Mr', 'Miss', 'Mrs', 'Master', 'None]\n",
    "        '''\n",
    "        try:\n",
    "            name_list = name.split(sep=', ')\n",
    "            name_list2 = name_list[1].split(sep='.')\n",
    "            title = name_list2[0]\n",
    "        except:\n",
    "            title = 'None'\n",
    "\n",
    "        if title not in ['Mr', 'Miss', 'Mrs', 'Master']:\n",
    "            title = 'None'\n",
    "\n",
    "        return title\n",
    "    df2 = df.copy()\n",
    "    \n",
    "    titles = df2.Name.map(get_title_2)\n",
    "    df2['Title'] = titles\n",
    "    df2 = df2.drop(['Name'], axis=1)\n",
    "    \n",
    "    return df2\n",
    "\n",
    "def drop_cols(df, cols=['Ticket', 'Cabin']):\n",
    "    '''\n",
    "    Drop the columns in the list cols\n",
    "    '''\n",
    "    df2 = df.copy()\n",
    "    df2 = df2.drop(cols, axis=1)\n",
    "    return df2\n",
    "\n",
    "\n",
    "def apply_functions(df, funcs):\n",
    "    df2 = df.copy()\n",
    "    for func in funcs:\n",
    "        df2 = func(df2)\n",
    "    return df2\n",
    "\n",
    "funcs_list = [fuse_cat_embarked, binning_age, binning_fare, relatives_transf, title_transf, drop_cols]\n",
    "\n",
    "df_clean = apply_functions(titanic, funcs=funcs_list)\n",
    "df_clean.head()"
   ]
  },
  {
   "cell_type": "markdown",
   "metadata": {},
   "source": [
    "Great, but that's not over. We still need to replace some missing values and change the categorical variables into dummies variables. "
   ]
  },
  {
   "cell_type": "markdown",
   "metadata": {},
   "source": [
    "### Nans \n",
    "\n",
    "We still have some nans to take care of."
   ]
  },
  {
   "cell_type": "code",
   "execution_count": 37,
   "metadata": {},
   "outputs": [
    {
     "data": {
      "text/plain": [
       "Age         177\n",
       "Embarked      2\n",
       "dtype: int64"
      ]
     },
     "execution_count": 37,
     "metadata": {},
     "output_type": "execute_result"
    }
   ],
   "source": [
    "df_clean_nans = df_clean.isnull().sum()\n",
    "df_clean_nans[df_clean_nans!=0]"
   ]
  },
  {
   "cell_type": "code",
   "execution_count": 38,
   "metadata": {},
   "outputs": [
    {
     "data": {
      "text/plain": [
       "(15.0, 30.0]    326\n",
       "(30.0, inf]     305\n",
       "(-inf, 15.0]     83\n",
       "Name: Age, dtype: int64"
      ]
     },
     "execution_count": 38,
     "metadata": {},
     "output_type": "execute_result"
    }
   ],
   "source": [
    "df_clean.Age.value_counts()"
   ]
  },
  {
   "cell_type": "markdown",
   "metadata": {},
   "source": [
    "What could we do for the Age variable here ? We could impute the most frequent category ((15.0, 30.0], here), or create a new category."
   ]
  },
  {
   "cell_type": "code",
   "execution_count": 39,
   "metadata": {
    "collapsed": true
   },
   "outputs": [],
   "source": [
    "age_mode = df_clean.Age.value_counts().index[0]\n",
    "def age_imputer(df, mode=age_mode, nan_strat=False):\n",
    "    '''\n",
    "    Replace the nan value of the variable Age by either the mode (if nan_strat=False), \n",
    "    or either the value 'nan(if nan_strat=True).\n",
    "    '''\n",
    "    df2 = df.copy()\n",
    "    age = df2.Age\n",
    "    if not nan_strat:\n",
    "        age[df.Age.isnull()] = mode\n",
    "    else:\n",
    "        age = age.astype('object')\n",
    "        age[df.Age.isnull()] = 'nan'\n",
    "    df2.Age = age\n",
    "    return df2"
   ]
  },
  {
   "cell_type": "markdown",
   "metadata": {},
   "source": [
    "And for the Embarked nans, we can also impute the mode"
   ]
  },
  {
   "cell_type": "code",
   "execution_count": 40,
   "metadata": {
    "collapsed": true
   },
   "outputs": [],
   "source": [
    "embarked_mode = df_clean.Embarked.value_counts().index[0]\n",
    "def embarked_imputer(df, mode=embarked_mode):\n",
    "    df2 = df.copy()\n",
    "    df2.loc[df2.Embarked.isnull(), 'Embarked'] = mode\n",
    "    return df2"
   ]
  },
  {
   "cell_type": "code",
   "execution_count": 41,
   "metadata": {
    "scrolled": true
   },
   "outputs": [
    {
     "data": {
      "text/plain": [
       "False"
      ]
     },
     "execution_count": 41,
     "metadata": {},
     "output_type": "execute_result"
    }
   ],
   "source": [
    "funcs_list = [fuse_cat_embarked, binning_age, binning_fare, relatives_transf, title_transf, drop_cols, age_imputer, embarked_imputer]\n",
    "\n",
    "df_clean_no_nan = apply_functions(titanic, funcs=funcs_list)\n",
    "df_clean_no_nan.isnull().any().any()"
   ]
  },
  {
   "cell_type": "markdown",
   "metadata": {},
   "source": [
    "Great, our dataset is clean ! Let's check if our transformation works on both our train and test set."
   ]
  },
  {
   "cell_type": "code",
   "execution_count": 42,
   "metadata": {},
   "outputs": [
    {
     "data": {
      "text/plain": [
       "Pclass       0\n",
       "Sex          0\n",
       "Age          0\n",
       "Fare         1\n",
       "Embarked     0\n",
       "Relatives    0\n",
       "Title        0\n",
       "dtype: int64"
      ]
     },
     "execution_count": 42,
     "metadata": {},
     "output_type": "execute_result"
    }
   ],
   "source": [
    "apply_functions(titanic_submission, funcs=funcs_list).isnull().sum()"
   ]
  },
  {
   "cell_type": "markdown",
   "metadata": {},
   "source": [
    "There is still a nan is the test set after all our transformation, let's define a last function to impute the mode on this missing value."
   ]
  },
  {
   "cell_type": "code",
   "execution_count": 43,
   "metadata": {
    "collapsed": true
   },
   "outputs": [],
   "source": [
    "fare_mode = df_clean.Fare.value_counts().index[0]\n",
    "def fare_imputer(df, mode=fare_mode):\n",
    "    df2 = df.copy()\n",
    "    df2.loc[df2.Fare.isnull(), 'Fare'] = mode\n",
    "    return df2"
   ]
  },
  {
   "cell_type": "code",
   "execution_count": 44,
   "metadata": {},
   "outputs": [
    {
     "data": {
      "text/plain": [
       "False"
      ]
     },
     "execution_count": 44,
     "metadata": {},
     "output_type": "execute_result"
    }
   ],
   "source": [
    "funcs_list = [fuse_cat_embarked, binning_age, binning_fare, relatives_transf, title_transf, \n",
    "              drop_cols, age_imputer, embarked_imputer, fare_imputer]\n",
    "\n",
    "df_clean_no_nan_submission = apply_functions(titanic_submission, funcs=funcs_list)\n",
    "df_clean_no_nan_submission.isnull().any().any()"
   ]
  },
  {
   "cell_type": "markdown",
   "metadata": {},
   "source": [
    "### Last step of preparation of our data : dummy variables\n",
    "\n",
    "To make our categorical variables useable to our models, we need to change these variables into dummy variables."
   ]
  },
  {
   "cell_type": "code",
   "execution_count": 45,
   "metadata": {},
   "outputs": [
    {
     "data": {
      "text/html": [
       "<div>\n",
       "<style>\n",
       "    .dataframe thead tr:only-child th {\n",
       "        text-align: right;\n",
       "    }\n",
       "\n",
       "    .dataframe thead th {\n",
       "        text-align: left;\n",
       "    }\n",
       "\n",
       "    .dataframe tbody tr th {\n",
       "        vertical-align: top;\n",
       "    }\n",
       "</style>\n",
       "<table border=\"1\" class=\"dataframe\">\n",
       "  <thead>\n",
       "    <tr style=\"text-align: right;\">\n",
       "      <th></th>\n",
       "      <th>Survived</th>\n",
       "      <th>Pclass</th>\n",
       "      <th>Sex</th>\n",
       "      <th>Age</th>\n",
       "      <th>Fare</th>\n",
       "      <th>Embarked</th>\n",
       "      <th>Relatives</th>\n",
       "      <th>Title</th>\n",
       "    </tr>\n",
       "    <tr>\n",
       "      <th>PassengerId</th>\n",
       "      <th></th>\n",
       "      <th></th>\n",
       "      <th></th>\n",
       "      <th></th>\n",
       "      <th></th>\n",
       "      <th></th>\n",
       "      <th></th>\n",
       "      <th></th>\n",
       "    </tr>\n",
       "  </thead>\n",
       "  <tbody>\n",
       "    <tr>\n",
       "      <th>1</th>\n",
       "      <td>0</td>\n",
       "      <td>3</td>\n",
       "      <td>male</td>\n",
       "      <td>(15.0, 30.0]</td>\n",
       "      <td>(-inf, 30.0]</td>\n",
       "      <td>Q/S</td>\n",
       "      <td>1</td>\n",
       "      <td>Mr</td>\n",
       "    </tr>\n",
       "    <tr>\n",
       "      <th>2</th>\n",
       "      <td>1</td>\n",
       "      <td>1</td>\n",
       "      <td>female</td>\n",
       "      <td>(30.0, inf]</td>\n",
       "      <td>(30.0, inf]</td>\n",
       "      <td>C</td>\n",
       "      <td>1</td>\n",
       "      <td>Mrs</td>\n",
       "    </tr>\n",
       "    <tr>\n",
       "      <th>3</th>\n",
       "      <td>1</td>\n",
       "      <td>3</td>\n",
       "      <td>female</td>\n",
       "      <td>(15.0, 30.0]</td>\n",
       "      <td>(-inf, 30.0]</td>\n",
       "      <td>Q/S</td>\n",
       "      <td>0</td>\n",
       "      <td>Miss</td>\n",
       "    </tr>\n",
       "    <tr>\n",
       "      <th>4</th>\n",
       "      <td>1</td>\n",
       "      <td>1</td>\n",
       "      <td>female</td>\n",
       "      <td>(30.0, inf]</td>\n",
       "      <td>(30.0, inf]</td>\n",
       "      <td>Q/S</td>\n",
       "      <td>1</td>\n",
       "      <td>Mrs</td>\n",
       "    </tr>\n",
       "    <tr>\n",
       "      <th>5</th>\n",
       "      <td>0</td>\n",
       "      <td>3</td>\n",
       "      <td>male</td>\n",
       "      <td>(30.0, inf]</td>\n",
       "      <td>(-inf, 30.0]</td>\n",
       "      <td>Q/S</td>\n",
       "      <td>0</td>\n",
       "      <td>Mr</td>\n",
       "    </tr>\n",
       "  </tbody>\n",
       "</table>\n",
       "</div>"
      ],
      "text/plain": [
       "             Survived  Pclass     Sex           Age          Fare Embarked  \\\n",
       "PassengerId                                                                  \n",
       "1                   0       3    male  (15.0, 30.0]  (-inf, 30.0]      Q/S   \n",
       "2                   1       1  female   (30.0, inf]   (30.0, inf]        C   \n",
       "3                   1       3  female  (15.0, 30.0]  (-inf, 30.0]      Q/S   \n",
       "4                   1       1  female   (30.0, inf]   (30.0, inf]      Q/S   \n",
       "5                   0       3    male   (30.0, inf]  (-inf, 30.0]      Q/S   \n",
       "\n",
       "             Relatives Title  \n",
       "PassengerId                   \n",
       "1                    1    Mr  \n",
       "2                    1   Mrs  \n",
       "3                    0  Miss  \n",
       "4                    1   Mrs  \n",
       "5                    0    Mr  "
      ]
     },
     "execution_count": 45,
     "metadata": {},
     "output_type": "execute_result"
    }
   ],
   "source": [
    "funcs_list = [fuse_cat_embarked, binning_age, binning_fare, relatives_transf, title_transf, \n",
    "              drop_cols, age_imputer, embarked_imputer, fare_imputer]\n",
    "\n",
    "df_clean_no_nan = apply_functions(titanic, funcs=funcs_list)\n",
    "# reprint the first rows our clean dataset\n",
    "df_clean_no_nan.head()"
   ]
  },
  {
   "cell_type": "code",
   "execution_count": 46,
   "metadata": {},
   "outputs": [
    {
     "data": {
      "text/plain": [
       "Survived        int64\n",
       "Pclass          int64\n",
       "Sex            object\n",
       "Age          category\n",
       "Fare         category\n",
       "Embarked       object\n",
       "Relatives       int64\n",
       "Title          object\n",
       "dtype: object"
      ]
     },
     "execution_count": 46,
     "metadata": {},
     "output_type": "execute_result"
    }
   ],
   "source": [
    "#check the dtype of each variable\n",
    "df_clean_no_nan.dtypes"
   ]
  },
  {
   "cell_type": "code",
   "execution_count": 47,
   "metadata": {},
   "outputs": [
    {
     "data": {
      "text/plain": [
       "Survived        int64\n",
       "Pclass       category\n",
       "Sex          category\n",
       "Age          category\n",
       "Fare         category\n",
       "Embarked     category\n",
       "Relatives       int64\n",
       "Title        category\n",
       "dtype: object"
      ]
     },
     "execution_count": 47,
     "metadata": {},
     "output_type": "execute_result"
    }
   ],
   "source": [
    "# Change the object variable into categorical variable\n",
    "df_clean_no_nan_copy = df_clean_no_nan.copy()\n",
    "for col in ['Pclass', 'Sex', 'Embarked', 'Title']:\n",
    "    df_clean_no_nan_copy[col] = df_clean_no_nan_copy[col].astype('category')\n",
    "df_clean_no_nan_copy.dtypes"
   ]
  },
  {
   "cell_type": "markdown",
   "metadata": {},
   "source": [
    "Let's transform these categorical variable into dummy variable. For this, I define a transformer class."
   ]
  },
  {
   "cell_type": "code",
   "execution_count": 48,
   "metadata": {
    "collapsed": true
   },
   "outputs": [],
   "source": [
    "from sklearn.base import BaseEstimator, TransformerMixin\n",
    "\n",
    "class dummy_encoder(BaseEstimator, TransformerMixin):\n",
    "    def __init__(self, drop_first=False):\n",
    "        self.drop_first = drop_first\n",
    "    def fit(self, X, y=None):\n",
    "        dtypes = X.dtypes\n",
    "        self.cols = X.loc[:, (dtypes == 'object')|(dtypes == 'category')].columns\n",
    "        self.dummy_cols = pd.get_dummies(X, columns=self.cols, drop_first=self.drop_first).columns\n",
    "        \n",
    "        return self\n",
    "    \n",
    "    def transform(self, X):\n",
    "        X_transformed = pd.get_dummies(X, columns=self.cols)\n",
    "        X_transformed = X_transformed.reindex(columns=self.dummy_cols, fill_value=0)\n",
    "        \n",
    "        return X_transformed"
   ]
  },
  {
   "cell_type": "code",
   "execution_count": 49,
   "metadata": {},
   "outputs": [
    {
     "name": "stdout",
     "output_type": "stream",
     "text": [
      "(891, 19)\n"
     ]
    },
    {
     "data": {
      "text/html": [
       "<div>\n",
       "<style>\n",
       "    .dataframe thead tr:only-child th {\n",
       "        text-align: right;\n",
       "    }\n",
       "\n",
       "    .dataframe thead th {\n",
       "        text-align: left;\n",
       "    }\n",
       "\n",
       "    .dataframe tbody tr th {\n",
       "        vertical-align: top;\n",
       "    }\n",
       "</style>\n",
       "<table border=\"1\" class=\"dataframe\">\n",
       "  <thead>\n",
       "    <tr style=\"text-align: right;\">\n",
       "      <th></th>\n",
       "      <th>Survived</th>\n",
       "      <th>Relatives</th>\n",
       "      <th>Pclass_1</th>\n",
       "      <th>Pclass_2</th>\n",
       "      <th>Pclass_3</th>\n",
       "      <th>Sex_female</th>\n",
       "      <th>Sex_male</th>\n",
       "      <th>Age_(-inf, 15.0]</th>\n",
       "      <th>Age_(15.0, 30.0]</th>\n",
       "      <th>Age_(30.0, inf]</th>\n",
       "      <th>Fare_(-inf, 30.0]</th>\n",
       "      <th>Fare_(30.0, inf]</th>\n",
       "      <th>Embarked_C</th>\n",
       "      <th>Embarked_Q/S</th>\n",
       "      <th>Title_Master</th>\n",
       "      <th>Title_Miss</th>\n",
       "      <th>Title_Mr</th>\n",
       "      <th>Title_Mrs</th>\n",
       "      <th>Title_None</th>\n",
       "    </tr>\n",
       "    <tr>\n",
       "      <th>PassengerId</th>\n",
       "      <th></th>\n",
       "      <th></th>\n",
       "      <th></th>\n",
       "      <th></th>\n",
       "      <th></th>\n",
       "      <th></th>\n",
       "      <th></th>\n",
       "      <th></th>\n",
       "      <th></th>\n",
       "      <th></th>\n",
       "      <th></th>\n",
       "      <th></th>\n",
       "      <th></th>\n",
       "      <th></th>\n",
       "      <th></th>\n",
       "      <th></th>\n",
       "      <th></th>\n",
       "      <th></th>\n",
       "      <th></th>\n",
       "    </tr>\n",
       "  </thead>\n",
       "  <tbody>\n",
       "    <tr>\n",
       "      <th>1</th>\n",
       "      <td>0</td>\n",
       "      <td>1</td>\n",
       "      <td>0</td>\n",
       "      <td>0</td>\n",
       "      <td>1</td>\n",
       "      <td>0</td>\n",
       "      <td>1</td>\n",
       "      <td>0</td>\n",
       "      <td>1</td>\n",
       "      <td>0</td>\n",
       "      <td>1</td>\n",
       "      <td>0</td>\n",
       "      <td>0</td>\n",
       "      <td>1</td>\n",
       "      <td>0</td>\n",
       "      <td>0</td>\n",
       "      <td>1</td>\n",
       "      <td>0</td>\n",
       "      <td>0</td>\n",
       "    </tr>\n",
       "    <tr>\n",
       "      <th>2</th>\n",
       "      <td>1</td>\n",
       "      <td>1</td>\n",
       "      <td>1</td>\n",
       "      <td>0</td>\n",
       "      <td>0</td>\n",
       "      <td>1</td>\n",
       "      <td>0</td>\n",
       "      <td>0</td>\n",
       "      <td>0</td>\n",
       "      <td>1</td>\n",
       "      <td>0</td>\n",
       "      <td>1</td>\n",
       "      <td>1</td>\n",
       "      <td>0</td>\n",
       "      <td>0</td>\n",
       "      <td>0</td>\n",
       "      <td>0</td>\n",
       "      <td>1</td>\n",
       "      <td>0</td>\n",
       "    </tr>\n",
       "    <tr>\n",
       "      <th>3</th>\n",
       "      <td>1</td>\n",
       "      <td>0</td>\n",
       "      <td>0</td>\n",
       "      <td>0</td>\n",
       "      <td>1</td>\n",
       "      <td>1</td>\n",
       "      <td>0</td>\n",
       "      <td>0</td>\n",
       "      <td>1</td>\n",
       "      <td>0</td>\n",
       "      <td>1</td>\n",
       "      <td>0</td>\n",
       "      <td>0</td>\n",
       "      <td>1</td>\n",
       "      <td>0</td>\n",
       "      <td>1</td>\n",
       "      <td>0</td>\n",
       "      <td>0</td>\n",
       "      <td>0</td>\n",
       "    </tr>\n",
       "    <tr>\n",
       "      <th>4</th>\n",
       "      <td>1</td>\n",
       "      <td>1</td>\n",
       "      <td>1</td>\n",
       "      <td>0</td>\n",
       "      <td>0</td>\n",
       "      <td>1</td>\n",
       "      <td>0</td>\n",
       "      <td>0</td>\n",
       "      <td>0</td>\n",
       "      <td>1</td>\n",
       "      <td>0</td>\n",
       "      <td>1</td>\n",
       "      <td>0</td>\n",
       "      <td>1</td>\n",
       "      <td>0</td>\n",
       "      <td>0</td>\n",
       "      <td>0</td>\n",
       "      <td>1</td>\n",
       "      <td>0</td>\n",
       "    </tr>\n",
       "    <tr>\n",
       "      <th>5</th>\n",
       "      <td>0</td>\n",
       "      <td>0</td>\n",
       "      <td>0</td>\n",
       "      <td>0</td>\n",
       "      <td>1</td>\n",
       "      <td>0</td>\n",
       "      <td>1</td>\n",
       "      <td>0</td>\n",
       "      <td>0</td>\n",
       "      <td>1</td>\n",
       "      <td>1</td>\n",
       "      <td>0</td>\n",
       "      <td>0</td>\n",
       "      <td>1</td>\n",
       "      <td>0</td>\n",
       "      <td>0</td>\n",
       "      <td>1</td>\n",
       "      <td>0</td>\n",
       "      <td>0</td>\n",
       "    </tr>\n",
       "  </tbody>\n",
       "</table>\n",
       "</div>"
      ],
      "text/plain": [
       "             Survived  Relatives  Pclass_1  Pclass_2  Pclass_3  Sex_female  \\\n",
       "PassengerId                                                                  \n",
       "1                   0          1         0         0         1           0   \n",
       "2                   1          1         1         0         0           1   \n",
       "3                   1          0         0         0         1           1   \n",
       "4                   1          1         1         0         0           1   \n",
       "5                   0          0         0         0         1           0   \n",
       "\n",
       "             Sex_male  Age_(-inf, 15.0]  Age_(15.0, 30.0]  Age_(30.0, inf]  \\\n",
       "PassengerId                                                                  \n",
       "1                   1                 0                 1                0   \n",
       "2                   0                 0                 0                1   \n",
       "3                   0                 0                 1                0   \n",
       "4                   0                 0                 0                1   \n",
       "5                   1                 0                 0                1   \n",
       "\n",
       "             Fare_(-inf, 30.0]  Fare_(30.0, inf]  Embarked_C  Embarked_Q/S  \\\n",
       "PassengerId                                                                  \n",
       "1                            1                 0           0             1   \n",
       "2                            0                 1           1             0   \n",
       "3                            1                 0           0             1   \n",
       "4                            0                 1           0             1   \n",
       "5                            1                 0           0             1   \n",
       "\n",
       "             Title_Master  Title_Miss  Title_Mr  Title_Mrs  Title_None  \n",
       "PassengerId                                                             \n",
       "1                       0           0         1          0           0  \n",
       "2                       0           0         0          1           0  \n",
       "3                       0           1         0          0           0  \n",
       "4                       0           0         0          1           0  \n",
       "5                       0           0         1          0           0  "
      ]
     },
     "execution_count": 49,
     "metadata": {},
     "output_type": "execute_result"
    }
   ],
   "source": [
    "dummificator = dummy_encoder(drop_first=False)\n",
    "df_clean_no_nan_dummy = dummificator.fit_transform(df_clean_no_nan_copy)\n",
    "print(df_clean_no_nan_dummy.shape)\n",
    "df_clean_no_nan_dummy.head()"
   ]
  },
  {
   "cell_type": "markdown",
   "metadata": {},
   "source": [
    "With this new form, our dataset has 17 columns, but we can actually reduce the columns count significantly by dropping the first dummy categoty of each categorical variables. For example, We don't need both columns **Sex_male** and **Sex_female**, only one columns is necessary to keep all the information from the original **Sex** variable. In general, we need only k-1 dummy columns to keep all the information from a categorical variable of k different categories."
   ]
  },
  {
   "cell_type": "code",
   "execution_count": 50,
   "metadata": {},
   "outputs": [
    {
     "name": "stdout",
     "output_type": "stream",
     "text": [
      "(891, 13)\n"
     ]
    },
    {
     "data": {
      "text/html": [
       "<div>\n",
       "<style>\n",
       "    .dataframe thead tr:only-child th {\n",
       "        text-align: right;\n",
       "    }\n",
       "\n",
       "    .dataframe thead th {\n",
       "        text-align: left;\n",
       "    }\n",
       "\n",
       "    .dataframe tbody tr th {\n",
       "        vertical-align: top;\n",
       "    }\n",
       "</style>\n",
       "<table border=\"1\" class=\"dataframe\">\n",
       "  <thead>\n",
       "    <tr style=\"text-align: right;\">\n",
       "      <th></th>\n",
       "      <th>Survived</th>\n",
       "      <th>Relatives</th>\n",
       "      <th>Pclass_2</th>\n",
       "      <th>Pclass_3</th>\n",
       "      <th>Sex_male</th>\n",
       "      <th>Age_(15.0, 30.0]</th>\n",
       "      <th>Age_(30.0, inf]</th>\n",
       "      <th>Fare_(30.0, inf]</th>\n",
       "      <th>Embarked_Q/S</th>\n",
       "      <th>Title_Miss</th>\n",
       "      <th>Title_Mr</th>\n",
       "      <th>Title_Mrs</th>\n",
       "      <th>Title_None</th>\n",
       "    </tr>\n",
       "    <tr>\n",
       "      <th>PassengerId</th>\n",
       "      <th></th>\n",
       "      <th></th>\n",
       "      <th></th>\n",
       "      <th></th>\n",
       "      <th></th>\n",
       "      <th></th>\n",
       "      <th></th>\n",
       "      <th></th>\n",
       "      <th></th>\n",
       "      <th></th>\n",
       "      <th></th>\n",
       "      <th></th>\n",
       "      <th></th>\n",
       "    </tr>\n",
       "  </thead>\n",
       "  <tbody>\n",
       "    <tr>\n",
       "      <th>1</th>\n",
       "      <td>0</td>\n",
       "      <td>1</td>\n",
       "      <td>0</td>\n",
       "      <td>1</td>\n",
       "      <td>1</td>\n",
       "      <td>1</td>\n",
       "      <td>0</td>\n",
       "      <td>0</td>\n",
       "      <td>1</td>\n",
       "      <td>0</td>\n",
       "      <td>1</td>\n",
       "      <td>0</td>\n",
       "      <td>0</td>\n",
       "    </tr>\n",
       "    <tr>\n",
       "      <th>2</th>\n",
       "      <td>1</td>\n",
       "      <td>1</td>\n",
       "      <td>0</td>\n",
       "      <td>0</td>\n",
       "      <td>0</td>\n",
       "      <td>0</td>\n",
       "      <td>1</td>\n",
       "      <td>1</td>\n",
       "      <td>0</td>\n",
       "      <td>0</td>\n",
       "      <td>0</td>\n",
       "      <td>1</td>\n",
       "      <td>0</td>\n",
       "    </tr>\n",
       "    <tr>\n",
       "      <th>3</th>\n",
       "      <td>1</td>\n",
       "      <td>0</td>\n",
       "      <td>0</td>\n",
       "      <td>1</td>\n",
       "      <td>0</td>\n",
       "      <td>1</td>\n",
       "      <td>0</td>\n",
       "      <td>0</td>\n",
       "      <td>1</td>\n",
       "      <td>1</td>\n",
       "      <td>0</td>\n",
       "      <td>0</td>\n",
       "      <td>0</td>\n",
       "    </tr>\n",
       "    <tr>\n",
       "      <th>4</th>\n",
       "      <td>1</td>\n",
       "      <td>1</td>\n",
       "      <td>0</td>\n",
       "      <td>0</td>\n",
       "      <td>0</td>\n",
       "      <td>0</td>\n",
       "      <td>1</td>\n",
       "      <td>1</td>\n",
       "      <td>1</td>\n",
       "      <td>0</td>\n",
       "      <td>0</td>\n",
       "      <td>1</td>\n",
       "      <td>0</td>\n",
       "    </tr>\n",
       "    <tr>\n",
       "      <th>5</th>\n",
       "      <td>0</td>\n",
       "      <td>0</td>\n",
       "      <td>0</td>\n",
       "      <td>1</td>\n",
       "      <td>1</td>\n",
       "      <td>0</td>\n",
       "      <td>1</td>\n",
       "      <td>0</td>\n",
       "      <td>1</td>\n",
       "      <td>0</td>\n",
       "      <td>1</td>\n",
       "      <td>0</td>\n",
       "      <td>0</td>\n",
       "    </tr>\n",
       "  </tbody>\n",
       "</table>\n",
       "</div>"
      ],
      "text/plain": [
       "             Survived  Relatives  Pclass_2  Pclass_3  Sex_male  \\\n",
       "PassengerId                                                      \n",
       "1                   0          1         0         1         1   \n",
       "2                   1          1         0         0         0   \n",
       "3                   1          0         0         1         0   \n",
       "4                   1          1         0         0         0   \n",
       "5                   0          0         0         1         1   \n",
       "\n",
       "             Age_(15.0, 30.0]  Age_(30.0, inf]  Fare_(30.0, inf]  \\\n",
       "PassengerId                                                        \n",
       "1                           1                0                 0   \n",
       "2                           0                1                 1   \n",
       "3                           1                0                 0   \n",
       "4                           0                1                 1   \n",
       "5                           0                1                 0   \n",
       "\n",
       "             Embarked_Q/S  Title_Miss  Title_Mr  Title_Mrs  Title_None  \n",
       "PassengerId                                                             \n",
       "1                       1           0         1          0           0  \n",
       "2                       0           0         0          1           0  \n",
       "3                       1           1         0          0           0  \n",
       "4                       1           0         0          1           0  \n",
       "5                       1           0         1          0           0  "
      ]
     },
     "execution_count": 50,
     "metadata": {},
     "output_type": "execute_result"
    }
   ],
   "source": [
    "dummificator = dummy_encoder(drop_first=True)\n",
    "df_clean_no_nan_dummy = dummificator.fit_transform(df_clean_no_nan_copy)\n",
    "print(df_clean_no_nan_dummy.shape)\n",
    "df_clean_no_nan_dummy.head()"
   ]
  },
  {
   "cell_type": "markdown",
   "metadata": {},
   "source": [
    "Alright, let's apply the same transformation to both the train and submission data set. To do this, I concat the two dataset."
   ]
  },
  {
   "cell_type": "code",
   "execution_count": 51,
   "metadata": {
    "collapsed": true
   },
   "outputs": [],
   "source": [
    "titanic_no_target = titanic.drop('Survived', axis=1)\n",
    "\n",
    "data_clean = pd.concat([titanic_no_target, titanic_submission])\n",
    "\n",
    "funcs_list = [fuse_cat_embarked, binning_age, binning_fare, relatives_transf, title_transf, \n",
    "              drop_cols, age_imputer, embarked_imputer, fare_imputer]\n",
    "\n",
    "data_clean = apply_functions(data_clean, funcs=funcs_list)\n",
    "for col in ['Pclass', 'Sex', 'Embarked', 'Title']:\n",
    "    data_clean[col] = data_clean[col].astype('category')\n",
    "    \n",
    "data_final = dummificator.fit_transform(data_clean)"
   ]
  },
  {
   "cell_type": "code",
   "execution_count": 52,
   "metadata": {
    "scrolled": true
   },
   "outputs": [
    {
     "name": "stdout",
     "output_type": "stream",
     "text": [
      "final shape :  (1309, 12)\n",
      "Nans :  0\n"
     ]
    }
   ],
   "source": [
    "print('final shape : ', data_final.shape)\n",
    "print('Nans : ', data_final.isnull().sum().sum())"
   ]
  },
  {
   "cell_type": "markdown",
   "metadata": {},
   "source": [
    "Super, our dataset is clean and transform, let's repack the data into the train and test set."
   ]
  },
  {
   "cell_type": "code",
   "execution_count": 53,
   "metadata": {
    "collapsed": true
   },
   "outputs": [],
   "source": [
    "# our train preictors set and associated target set\n",
    "X = data_final.loc[titanic.index, :]\n",
    "y = titanic.Survived\n",
    "\n",
    "# the submission set\n",
    "X_submission = data_final.loc[titanic_submission.index, :]"
   ]
  },
  {
   "cell_type": "code",
   "execution_count": 54,
   "metadata": {},
   "outputs": [
    {
     "data": {
      "text/plain": [
       "False"
      ]
     },
     "execution_count": 54,
     "metadata": {},
     "output_type": "execute_result"
    }
   ],
   "source": [
    "# Check to see if there is any index from X and y not aligned\n",
    "(y.index != X.index).any()"
   ]
  },
  {
   "cell_type": "markdown",
   "metadata": {},
   "source": [
    "Finally, to do the cross validation, I do a last split on the data"
   ]
  },
  {
   "cell_type": "code",
   "execution_count": 55,
   "metadata": {
    "collapsed": true
   },
   "outputs": [],
   "source": [
    "from sklearn.model_selection import train_test_split\n",
    "\n",
    "X_train, X_test, y_train, y_test = train_test_split(X, y, test_size=0.33, random_state=42)"
   ]
  },
  {
   "cell_type": "markdown",
   "metadata": {},
   "source": [
    "Now, we can start searching for the best model."
   ]
  },
  {
   "cell_type": "markdown",
   "metadata": {},
   "source": [
    "# 3. Modeling\n",
    "\n",
    "To assess the performance of various models, I wrote a function which compute a gridsearch fro a list of estimators and parameters values that I feed to him. I can also specify a list of preprocessing transformer"
   ]
  },
  {
   "cell_type": "code",
   "execution_count": 56,
   "metadata": {
    "collapsed": true
   },
   "outputs": [],
   "source": [
    "from sklearn.model_selection import cross_validate, GridSearchCV\n",
    "from sklearn.pipeline import make_pipeline\n",
    "\n",
    "def multi_estimators_gridsearch(preprocess_steps, estimators, params_list, X_train, y_train, X_test, y_test, grid_cv=5):\n",
    "    '''\n",
    "    gridsearch for all estimators given to the function and return different metrics for the training, CV and test set\n",
    "    \n",
    "    preprocess_steps : list of preprocessing steps\n",
    "    estimators : list of estimators who will be append to the pipeline after the preprocessing steps\n",
    "    params_list : list of dictionnary of parameters for the gridsearch \n",
    "    X_train, y_train : for the grid search with Cross validation\n",
    "    X_test, y_test : to test the best model found by gridsearch\n",
    "    \n",
    "    output : dataframe of results, dictionnary of best estimators\n",
    "    '''\n",
    "    \n",
    "    def get_params_grids(estimators, params_list):\n",
    "        '''\n",
    "        input : - estimators : list of estimators \n",
    "                - params_list : list of dictionnary of parameters for gridsearch\n",
    "\n",
    "        ouptut : return a dictionnary of dictionnary of parameters for the gridsearch : estimators -> parameters -> values\n",
    "                ready to be inserted in multi_estimators_gridsearch\n",
    "        '''\n",
    "        params_grids = {}\n",
    "        for estimator, param_grid in zip(estimators, params_list):\n",
    "            estimator_name = estimator.__class__.__name__\n",
    "\n",
    "            params = {}\n",
    "            for key in param_grid:\n",
    "                params[estimator_name.lower() + '__' + key] = param_grid[key]\n",
    "            params_grids[estimator] = params\n",
    "        return params_grids\n",
    "    \n",
    "    params_grids = get_params_grids(estimators, params_list)\n",
    "    \n",
    "    \n",
    "    # set results dataframe\n",
    "    estimators_cols = ['Best Parameters', 'All Best Parameters', 'Train Score Mean', 'CV Score Mean',\n",
    "                       'Test Score Mean', 'CV Score STD', 'Fitting Time Mean']\n",
    "    estimators_results = pd.DataFrame(columns = estimators_cols)\n",
    "    estimators_results.index.name = 'Estimator Name'\n",
    "    \n",
    "    best_estimators = {}\n",
    "    for estimator, params in zip(estimators, params_list):\n",
    "\n",
    "        #make pipeline : preprocess + estimator\n",
    "        estimator_pipe = make_pipeline(*preprocess_steps, estimator)\n",
    "        \n",
    "        param_grid = params_grids[estimator]\n",
    "\n",
    "        gridsearch = GridSearchCV(estimator_pipe, param_grid=param_grid, cv=grid_cv)\n",
    "        gridsearch.fit(X_train, y_train)\n",
    "        best_estimator = gridsearch.best_estimator_\n",
    "        # Cross-validation\n",
    "        cv_results = cross_validate(best_estimator, X_train, y_train, cv  = 2*grid_cv, return_train_score=True)\n",
    "\n",
    "        #get estimator name\n",
    "        estimator_name = estimator.__class__.__name__\n",
    "        \n",
    "        # write parameters searched through gridsearch\n",
    "        best_parameters = best_estimator.steps[-1][1].get_params()\n",
    "        parameter_str = ''\n",
    "        for param in params:\n",
    "            param_value = best_parameters[param]\n",
    "            parameter_str = param + ' : ' + str(param_value)\n",
    "        estimators_results.loc[estimator_name, 'Best Parameters'] = parameter_str\n",
    "        # write all parameters\n",
    "        estimators_results.loc[estimator_name, 'All Best Parameters'] = str(best_parameters)\n",
    "        \n",
    "        # write training score mean\n",
    "        estimators_results.loc[estimator_name, 'Train Score Mean'] = cv_results['train_score'].mean()\n",
    "        # write CV score mean\n",
    "        estimators_results.loc[estimator_name, 'CV Score Mean'] = cv_results['test_score'].mean()\n",
    "        # write std of the CV scores\n",
    "        estimators_results.loc[estimator_name, 'CV Score STD'] = cv_results['test_score'].std()\n",
    "\n",
    "        # write test score\n",
    "        best_estimator.fit(X_train, y_train)\n",
    "        estimators_results.loc[estimator_name, 'Test Score Mean'] = best_estimator.score(X_test, y_test)\n",
    "        \n",
    "        # write estimator fit time mean\n",
    "        estimators_results.loc[estimator_name, 'Fitting Time Mean'] = cv_results['fit_time'].mean()\n",
    "        \n",
    "        # append best estimator trained on the whole training set\n",
    "        best_estimators[estimator_name] = best_estimator\n",
    "        \n",
    "        print(estimator_name, 'DONE')\n",
    "   \n",
    "    return estimators_results, best_estimators"
   ]
  },
  {
   "cell_type": "code",
   "execution_count": 57,
   "metadata": {
    "collapsed": true
   },
   "outputs": [],
   "source": [
    "# Load classifiers\n",
    "from sklearn.linear_model import LogisticRegression\n",
    "from sklearn.neighbors import KNeighborsClassifier\n",
    "from sklearn.tree import DecisionTreeClassifier\n",
    "from sklearn.ensemble import RandomForestClassifier, AdaBoostClassifier\n",
    "from sklearn.svm import SVC, LinearSVC\n",
    "from xgboost import XGBClassifier\n",
    "\n",
    "from sklearn.preprocessing import StandardScaler, PolynomialFeatures\n",
    "from sklearn.feature_selection import RFE, SelectKBest"
   ]
  },
  {
   "cell_type": "code",
   "execution_count": 58,
   "metadata": {},
   "outputs": [
    {
     "name": "stdout",
     "output_type": "stream",
     "text": [
      "LogisticRegression DONE\n",
      "KNeighborsClassifier DONE\n",
      "DecisionTreeClassifier DONE\n",
      "RandomForestClassifier DONE\n",
      "AdaBoostClassifier DONE\n",
      "LinearSVC DONE\n",
      "SVC DONE\n",
      "XGBClassifier DONE\n"
     ]
    },
    {
     "data": {
      "text/html": [
       "<div>\n",
       "<style>\n",
       "    .dataframe thead tr:only-child th {\n",
       "        text-align: right;\n",
       "    }\n",
       "\n",
       "    .dataframe thead th {\n",
       "        text-align: left;\n",
       "    }\n",
       "\n",
       "    .dataframe tbody tr th {\n",
       "        vertical-align: top;\n",
       "    }\n",
       "</style>\n",
       "<table border=\"1\" class=\"dataframe\">\n",
       "  <thead>\n",
       "    <tr style=\"text-align: right;\">\n",
       "      <th></th>\n",
       "      <th>Best Parameters</th>\n",
       "      <th>All Best Parameters</th>\n",
       "      <th>Train Score Mean</th>\n",
       "      <th>CV Score Mean</th>\n",
       "      <th>Test Score Mean</th>\n",
       "      <th>CV Score STD</th>\n",
       "      <th>Fitting Time Mean</th>\n",
       "    </tr>\n",
       "    <tr>\n",
       "      <th>Estimator Name</th>\n",
       "      <th></th>\n",
       "      <th></th>\n",
       "      <th></th>\n",
       "      <th></th>\n",
       "      <th></th>\n",
       "      <th></th>\n",
       "      <th></th>\n",
       "    </tr>\n",
       "  </thead>\n",
       "  <tbody>\n",
       "    <tr>\n",
       "      <th>LogisticRegression</th>\n",
       "      <td></td>\n",
       "      <td>{'C': 1.0, 'class_weight': None, 'dual': False...</td>\n",
       "      <td>0.811895</td>\n",
       "      <td>0.798673</td>\n",
       "      <td>0.813559</td>\n",
       "      <td>0.0768347</td>\n",
       "      <td>0.00215147</td>\n",
       "    </tr>\n",
       "    <tr>\n",
       "      <th>KNeighborsClassifier</th>\n",
       "      <td></td>\n",
       "      <td>{'algorithm': 'auto', 'leaf_size': 30, 'metric...</td>\n",
       "      <td>0.807806</td>\n",
       "      <td>0.763418</td>\n",
       "      <td>0.762712</td>\n",
       "      <td>0.0623885</td>\n",
       "      <td>0.00180278</td>\n",
       "    </tr>\n",
       "    <tr>\n",
       "      <th>DecisionTreeClassifier</th>\n",
       "      <td></td>\n",
       "      <td>{'class_weight': None, 'criterion': 'gini', 'm...</td>\n",
       "      <td>0.851415</td>\n",
       "      <td>0.791673</td>\n",
       "      <td>0.80678</td>\n",
       "      <td>0.0539121</td>\n",
       "      <td>0.00155101</td>\n",
       "    </tr>\n",
       "    <tr>\n",
       "      <th>RandomForestClassifier</th>\n",
       "      <td></td>\n",
       "      <td>{'bootstrap': True, 'class_weight': None, 'cri...</td>\n",
       "      <td>0.849925</td>\n",
       "      <td>0.783394</td>\n",
       "      <td>0.810169</td>\n",
       "      <td>0.0544961</td>\n",
       "      <td>0.0125082</td>\n",
       "    </tr>\n",
       "    <tr>\n",
       "      <th>AdaBoostClassifier</th>\n",
       "      <td></td>\n",
       "      <td>{'algorithm': 'SAMME.R', 'base_estimator': Non...</td>\n",
       "      <td>0.809846</td>\n",
       "      <td>0.796979</td>\n",
       "      <td>0.813559</td>\n",
       "      <td>0.0706976</td>\n",
       "      <td>0.0559407</td>\n",
       "    </tr>\n",
       "    <tr>\n",
       "      <th>LinearSVC</th>\n",
       "      <td></td>\n",
       "      <td>{'C': 1.0, 'class_weight': None, 'dual': True,...</td>\n",
       "      <td>0.810216</td>\n",
       "      <td>0.793504</td>\n",
       "      <td>0.837288</td>\n",
       "      <td>0.0814354</td>\n",
       "      <td>0.0287692</td>\n",
       "    </tr>\n",
       "    <tr>\n",
       "      <th>SVC</th>\n",
       "      <td></td>\n",
       "      <td>{'C': 1.0, 'cache_size': 200, 'class_weight': ...</td>\n",
       "      <td>0.833333</td>\n",
       "      <td>0.798646</td>\n",
       "      <td>0.820339</td>\n",
       "      <td>0.0590519</td>\n",
       "      <td>0.00675442</td>\n",
       "    </tr>\n",
       "    <tr>\n",
       "      <th>XGBClassifier</th>\n",
       "      <td></td>\n",
       "      <td>{'base_score': 0.5, 'booster': 'gbtree', 'cols...</td>\n",
       "      <td>0.834823</td>\n",
       "      <td>0.793506</td>\n",
       "      <td>0.813559</td>\n",
       "      <td>0.062161</td>\n",
       "      <td>0.0350733</td>\n",
       "    </tr>\n",
       "  </tbody>\n",
       "</table>\n",
       "</div>"
      ],
      "text/plain": [
       "                       Best Parameters  \\\n",
       "Estimator Name                           \n",
       "LogisticRegression                       \n",
       "KNeighborsClassifier                     \n",
       "DecisionTreeClassifier                   \n",
       "RandomForestClassifier                   \n",
       "AdaBoostClassifier                       \n",
       "LinearSVC                                \n",
       "SVC                                      \n",
       "XGBClassifier                            \n",
       "\n",
       "                                                      All Best Parameters  \\\n",
       "Estimator Name                                                              \n",
       "LogisticRegression      {'C': 1.0, 'class_weight': None, 'dual': False...   \n",
       "KNeighborsClassifier    {'algorithm': 'auto', 'leaf_size': 30, 'metric...   \n",
       "DecisionTreeClassifier  {'class_weight': None, 'criterion': 'gini', 'm...   \n",
       "RandomForestClassifier  {'bootstrap': True, 'class_weight': None, 'cri...   \n",
       "AdaBoostClassifier      {'algorithm': 'SAMME.R', 'base_estimator': Non...   \n",
       "LinearSVC               {'C': 1.0, 'class_weight': None, 'dual': True,...   \n",
       "SVC                     {'C': 1.0, 'cache_size': 200, 'class_weight': ...   \n",
       "XGBClassifier           {'base_score': 0.5, 'booster': 'gbtree', 'cols...   \n",
       "\n",
       "                       Train Score Mean CV Score Mean Test Score Mean  \\\n",
       "Estimator Name                                                          \n",
       "LogisticRegression             0.811895      0.798673        0.813559   \n",
       "KNeighborsClassifier           0.807806      0.763418        0.762712   \n",
       "DecisionTreeClassifier         0.851415      0.791673         0.80678   \n",
       "RandomForestClassifier         0.849925      0.783394        0.810169   \n",
       "AdaBoostClassifier             0.809846      0.796979        0.813559   \n",
       "LinearSVC                      0.810216      0.793504        0.837288   \n",
       "SVC                            0.833333      0.798646        0.820339   \n",
       "XGBClassifier                  0.834823      0.793506        0.813559   \n",
       "\n",
       "                       CV Score STD Fitting Time Mean  \n",
       "Estimator Name                                         \n",
       "LogisticRegression        0.0768347        0.00215147  \n",
       "KNeighborsClassifier      0.0623885        0.00180278  \n",
       "DecisionTreeClassifier    0.0539121        0.00155101  \n",
       "RandomForestClassifier    0.0544961         0.0125082  \n",
       "AdaBoostClassifier        0.0706976         0.0559407  \n",
       "LinearSVC                 0.0814354         0.0287692  \n",
       "SVC                       0.0590519        0.00675442  \n",
       "XGBClassifier              0.062161         0.0350733  "
      ]
     },
     "execution_count": 58,
     "metadata": {},
     "output_type": "execute_result"
    }
   ],
   "source": [
    "# list of pre-processing transformer\n",
    "preprocess_steps = [StandardScaler()]\n",
    "\n",
    "# list of estimators to be trial\n",
    "estimators = [LogisticRegression(),\n",
    "              KNeighborsClassifier(),\n",
    "              DecisionTreeClassifier(),\n",
    "              RandomForestClassifier(),\n",
    "              AdaBoostClassifier(),\n",
    "              LinearSVC(),\n",
    "              SVC(),\n",
    "              XGBClassifier()\n",
    "             ]\n",
    "\n",
    "# list of dictionnay of parameters values, all dictionnary are empty : default values for the gridsearch\n",
    "params_list = []\n",
    "for estimator in estimators:\n",
    "    params_list.append({})\n",
    "\n",
    "results_df, best_estimators = multi_estimators_gridsearch(preprocess_steps, estimators, params_list, X_train, y_train, X_test, y_test, grid_cv=5)\n",
    "results_df"
   ]
  },
  {
   "cell_type": "markdown",
   "metadata": {},
   "source": [
    "It's important to point out that the standard error, which give us an idea of how reliable are our accuracy scores, is quite high. Because of this, it's hard to figure which model performs best.\n",
    "\n",
    "### predictors importance\n",
    "\n",
    "Let's see the importance of each feature, using the coefficient from the linear logistic regression."
   ]
  },
  {
   "cell_type": "code",
   "execution_count": 59,
   "metadata": {
    "scrolled": true
   },
   "outputs": [
    {
     "data": {
      "image/png": "[encoded data removed]",
      "text/plain": [
       "<matplotlib.figure.Figure at 0x2723fee7940>"
      ]
     },
     "metadata": {},
     "output_type": "display_data"
    }
   ],
   "source": [
    "log_reg = best_estimators['LogisticRegression'].steps[-1][1]\n",
    "feat_coef = pd.DataFrame({'Coefficient':log_reg.coef_.reshape(-1)}, index=X_train.columns)\n",
    "feat_coef_abs_sorted = feat_coef.Coefficient.abs().sort_values(ascending = False)\n",
    "\n",
    "feat_coef.loc[feat_coef_abs_sorted.index].plot(kind='barh')\n",
    "plt.title('Coefficient importance, sorted by absolute value');"
   ]
  },
  {
   "cell_type": "markdown",
   "metadata": {},
   "source": [
    "We see that Age and Fare are not good predictors, Relatives doesn't seem to be a good predictor either. Let'see if there is a significant change in accuracy predictions by dropping these features."
   ]
  },
  {
   "cell_type": "code",
   "execution_count": 60,
   "metadata": {},
   "outputs": [
    {
     "data": {
      "text/plain": [
       "Index(['Relatives', 'Pclass_2', 'Pclass_3', 'Sex_male', 'Age_(15.0, 30.0]',\n",
       "       'Age_(30.0, inf]', 'Fare_(30.0, inf]', 'Embarked_Q/S', 'Title_Miss',\n",
       "       'Title_Mr', 'Title_Mrs', 'Title_None'],\n",
       "      dtype='object')"
      ]
     },
     "execution_count": 60,
     "metadata": {},
     "output_type": "execute_result"
    }
   ],
   "source": [
    "X_train.columns"
   ]
  },
  {
   "cell_type": "code",
   "execution_count": 61,
   "metadata": {
    "collapsed": true
   },
   "outputs": [],
   "source": [
    "cols_to_drop = ['Age_(15.0, 30.0]', 'Age_(30.0, inf]', 'Fare_(30.0, inf]', 'Relatives']\n",
    "df_list = [X_train, X_test]\n",
    "\n",
    "df_new_list = []\n",
    "for df in df_list:\n",
    "    df2 = df.copy()\n",
    "    #append the dataframe with columns in cols_to_drop dropped\n",
    "    df_new_list.append(df2.drop(cols_to_drop, axis=1))\n",
    "\n",
    "X_train_reduced = df_new_list[0]\n",
    "X_test_reduced = df_new_list[1]"
   ]
  },
  {
   "cell_type": "code",
   "execution_count": 62,
   "metadata": {},
   "outputs": [
    {
     "name": "stdout",
     "output_type": "stream",
     "text": [
      "LogisticRegression DONE\n",
      "KNeighborsClassifier DONE\n",
      "DecisionTreeClassifier DONE\n",
      "RandomForestClassifier DONE\n",
      "AdaBoostClassifier DONE\n",
      "LinearSVC DONE\n",
      "SVC DONE\n",
      "XGBClassifier DONE\n"
     ]
    },
    {
     "data": {
      "text/html": [
       "<div>\n",
       "<style>\n",
       "    .dataframe thead tr:only-child th {\n",
       "        text-align: right;\n",
       "    }\n",
       "\n",
       "    .dataframe thead th {\n",
       "        text-align: left;\n",
       "    }\n",
       "\n",
       "    .dataframe tbody tr th {\n",
       "        vertical-align: top;\n",
       "    }\n",
       "</style>\n",
       "<table border=\"1\" class=\"dataframe\">\n",
       "  <thead>\n",
       "    <tr style=\"text-align: right;\">\n",
       "      <th></th>\n",
       "      <th>Best Parameters</th>\n",
       "      <th>All Best Parameters</th>\n",
       "      <th>Train Score Mean</th>\n",
       "      <th>CV Score Mean</th>\n",
       "      <th>Test Score Mean</th>\n",
       "      <th>CV Score STD</th>\n",
       "      <th>Fitting Time Mean</th>\n",
       "    </tr>\n",
       "    <tr>\n",
       "      <th>Estimator Name</th>\n",
       "      <th></th>\n",
       "      <th></th>\n",
       "      <th></th>\n",
       "      <th></th>\n",
       "      <th></th>\n",
       "      <th></th>\n",
       "      <th></th>\n",
       "    </tr>\n",
       "  </thead>\n",
       "  <tbody>\n",
       "    <tr>\n",
       "      <th>LogisticRegression</th>\n",
       "      <td></td>\n",
       "      <td>{'C': 1.0, 'class_weight': None, 'dual': False...</td>\n",
       "      <td>0.806483</td>\n",
       "      <td>0.770139</td>\n",
       "      <td>0.769492</td>\n",
       "      <td>0.0763066</td>\n",
       "      <td>0.00585392</td>\n",
       "    </tr>\n",
       "    <tr>\n",
       "      <th>KNeighborsClassifier</th>\n",
       "      <td></td>\n",
       "      <td>{'algorithm': 'auto', 'leaf_size': 30, 'metric...</td>\n",
       "      <td>0.783022</td>\n",
       "      <td>0.768334</td>\n",
       "      <td>0.749153</td>\n",
       "      <td>0.086329</td>\n",
       "      <td>0.00145106</td>\n",
       "    </tr>\n",
       "    <tr>\n",
       "      <th>DecisionTreeClassifier</th>\n",
       "      <td></td>\n",
       "      <td>{'class_weight': None, 'criterion': 'gini', 'm...</td>\n",
       "      <td>0.820096</td>\n",
       "      <td>0.796784</td>\n",
       "      <td>0.79322</td>\n",
       "      <td>0.0564081</td>\n",
       "      <td>0.00110083</td>\n",
       "    </tr>\n",
       "    <tr>\n",
       "      <th>RandomForestClassifier</th>\n",
       "      <td></td>\n",
       "      <td>{'bootstrap': True, 'class_weight': None, 'cri...</td>\n",
       "      <td>0.818976</td>\n",
       "      <td>0.798396</td>\n",
       "      <td>0.79322</td>\n",
       "      <td>0.0587716</td>\n",
       "      <td>0.0111575</td>\n",
       "    </tr>\n",
       "    <tr>\n",
       "      <th>AdaBoostClassifier</th>\n",
       "      <td></td>\n",
       "      <td>{'algorithm': 'SAMME.R', 'base_estimator': Non...</td>\n",
       "      <td>0.804249</td>\n",
       "      <td>0.773557</td>\n",
       "      <td>0.79661</td>\n",
       "      <td>0.0758657</td>\n",
       "      <td>0.0530355</td>\n",
       "    </tr>\n",
       "    <tr>\n",
       "      <th>LinearSVC</th>\n",
       "      <td></td>\n",
       "      <td>{'C': 1.0, 'class_weight': None, 'dual': True,...</td>\n",
       "      <td>0.799034</td>\n",
       "      <td>0.785226</td>\n",
       "      <td>0.820339</td>\n",
       "      <td>0.0835778</td>\n",
       "      <td>0.0219645</td>\n",
       "    </tr>\n",
       "    <tr>\n",
       "      <th>SVC</th>\n",
       "      <td></td>\n",
       "      <td>{'C': 1.0, 'cache_size': 200, 'class_weight': ...</td>\n",
       "      <td>0.81991</td>\n",
       "      <td>0.805287</td>\n",
       "      <td>0.783051</td>\n",
       "      <td>0.0476527</td>\n",
       "      <td>0.00489662</td>\n",
       "    </tr>\n",
       "    <tr>\n",
       "      <th>XGBClassifier</th>\n",
       "      <td></td>\n",
       "      <td>{'base_score': 0.5, 'booster': 'gbtree', 'cols...</td>\n",
       "      <td>0.81991</td>\n",
       "      <td>0.805258</td>\n",
       "      <td>0.79322</td>\n",
       "      <td>0.0506092</td>\n",
       "      <td>0.0273682</td>\n",
       "    </tr>\n",
       "  </tbody>\n",
       "</table>\n",
       "</div>"
      ],
      "text/plain": [
       "                       Best Parameters  \\\n",
       "Estimator Name                           \n",
       "LogisticRegression                       \n",
       "KNeighborsClassifier                     \n",
       "DecisionTreeClassifier                   \n",
       "RandomForestClassifier                   \n",
       "AdaBoostClassifier                       \n",
       "LinearSVC                                \n",
       "SVC                                      \n",
       "XGBClassifier                            \n",
       "\n",
       "                                                      All Best Parameters  \\\n",
       "Estimator Name                                                              \n",
       "LogisticRegression      {'C': 1.0, 'class_weight': None, 'dual': False...   \n",
       "KNeighborsClassifier    {'algorithm': 'auto', 'leaf_size': 30, 'metric...   \n",
       "DecisionTreeClassifier  {'class_weight': None, 'criterion': 'gini', 'm...   \n",
       "RandomForestClassifier  {'bootstrap': True, 'class_weight': None, 'cri...   \n",
       "AdaBoostClassifier      {'algorithm': 'SAMME.R', 'base_estimator': Non...   \n",
       "LinearSVC               {'C': 1.0, 'class_weight': None, 'dual': True,...   \n",
       "SVC                     {'C': 1.0, 'cache_size': 200, 'class_weight': ...   \n",
       "XGBClassifier           {'base_score': 0.5, 'booster': 'gbtree', 'cols...   \n",
       "\n",
       "                       Train Score Mean CV Score Mean Test Score Mean  \\\n",
       "Estimator Name                                                          \n",
       "LogisticRegression             0.806483      0.770139        0.769492   \n",
       "KNeighborsClassifier           0.783022      0.768334        0.749153   \n",
       "DecisionTreeClassifier         0.820096      0.796784         0.79322   \n",
       "RandomForestClassifier         0.818976      0.798396         0.79322   \n",
       "AdaBoostClassifier             0.804249      0.773557         0.79661   \n",
       "LinearSVC                      0.799034      0.785226        0.820339   \n",
       "SVC                             0.81991      0.805287        0.783051   \n",
       "XGBClassifier                   0.81991      0.805258         0.79322   \n",
       "\n",
       "                       CV Score STD Fitting Time Mean  \n",
       "Estimator Name                                         \n",
       "LogisticRegression        0.0763066        0.00585392  \n",
       "KNeighborsClassifier       0.086329        0.00145106  \n",
       "DecisionTreeClassifier    0.0564081        0.00110083  \n",
       "RandomForestClassifier    0.0587716         0.0111575  \n",
       "AdaBoostClassifier        0.0758657         0.0530355  \n",
       "LinearSVC                 0.0835778         0.0219645  \n",
       "SVC                       0.0476527        0.00489662  \n",
       "XGBClassifier             0.0506092         0.0273682  "
      ]
     },
     "execution_count": 62,
     "metadata": {},
     "output_type": "execute_result"
    }
   ],
   "source": [
    "results_df_reduced, best_estimators_reduced = multi_estimators_gridsearch(preprocess_steps, estimators, params_list, X_train_reduced, y_train, X_test_reduced, y_test, grid_cv=5)\n",
    "results_df_reduced"
   ]
  },
  {
   "cell_type": "markdown",
   "metadata": {},
   "source": [
    "The results are worse than before, showing that the Age, Fare and Relatives predictors are important to keep (or at least of them is)."
   ]
  },
  {
   "cell_type": "markdown",
   "metadata": {},
   "source": [
    "## Model optimization\n",
    "\n",
    "To optimize our models, we give different paramaters values to our function multi_estimators_gridsearch, which will assess which parameters are best by doing a grid search."
   ]
  },
  {
   "cell_type": "code",
   "execution_count": 63,
   "metadata": {
    "scrolled": false
   },
   "outputs": [
    {
     "name": "stdout",
     "output_type": "stream",
     "text": [
      "LogisticRegression DONE\n",
      "KNeighborsClassifier DONE\n",
      "DecisionTreeClassifier DONE\n",
      "RandomForestClassifier DONE\n",
      "AdaBoostClassifier DONE\n",
      "LinearSVC DONE\n",
      "SVC DONE\n",
      "XGBClassifier DONE\n"
     ]
    },
    {
     "data": {
      "text/html": [
       "<div>\n",
       "<style>\n",
       "    .dataframe thead tr:only-child th {\n",
       "        text-align: right;\n",
       "    }\n",
       "\n",
       "    .dataframe thead th {\n",
       "        text-align: left;\n",
       "    }\n",
       "\n",
       "    .dataframe tbody tr th {\n",
       "        vertical-align: top;\n",
       "    }\n",
       "</style>\n",
       "<table border=\"1\" class=\"dataframe\">\n",
       "  <thead>\n",
       "    <tr style=\"text-align: right;\">\n",
       "      <th></th>\n",
       "      <th>Best Parameters</th>\n",
       "      <th>All Best Parameters</th>\n",
       "      <th>Train Score Mean</th>\n",
       "      <th>CV Score Mean</th>\n",
       "      <th>Test Score Mean</th>\n",
       "      <th>CV Score STD</th>\n",
       "      <th>Fitting Time Mean</th>\n",
       "    </tr>\n",
       "    <tr>\n",
       "      <th>Estimator Name</th>\n",
       "      <th></th>\n",
       "      <th></th>\n",
       "      <th></th>\n",
       "      <th></th>\n",
       "      <th></th>\n",
       "      <th></th>\n",
       "      <th></th>\n",
       "    </tr>\n",
       "  </thead>\n",
       "  <tbody>\n",
       "    <tr>\n",
       "      <th>LogisticRegression</th>\n",
       "      <td>C : 0.206913808111</td>\n",
       "      <td>{'C': 0.20691380811147897, 'class_weight': Non...</td>\n",
       "      <td>0.808538</td>\n",
       "      <td>0.798701</td>\n",
       "      <td>0.80339</td>\n",
       "      <td>0.0737507</td>\n",
       "      <td>0.00210142</td>\n",
       "    </tr>\n",
       "    <tr>\n",
       "      <th>KNeighborsClassifier</th>\n",
       "      <td>n_neighbors : 11</td>\n",
       "      <td>{'algorithm': 'auto', 'leaf_size': 30, 'metric...</td>\n",
       "      <td>0.813571</td>\n",
       "      <td>0.791869</td>\n",
       "      <td>0.776271</td>\n",
       "      <td>0.0420876</td>\n",
       "      <td>0.0018512</td>\n",
       "    </tr>\n",
       "    <tr>\n",
       "      <th>DecisionTreeClassifier</th>\n",
       "      <td>max_depth : 6</td>\n",
       "      <td>{'class_weight': None, 'criterion': 'gini', 'm...</td>\n",
       "      <td>0.842467</td>\n",
       "      <td>0.791644</td>\n",
       "      <td>0.769492</td>\n",
       "      <td>0.0691206</td>\n",
       "      <td>0.00150099</td>\n",
       "    </tr>\n",
       "    <tr>\n",
       "      <th>RandomForestClassifier</th>\n",
       "      <td>max_depth : 11</td>\n",
       "      <td>{'bootstrap': True, 'class_weight': None, 'cri...</td>\n",
       "      <td>0.849175</td>\n",
       "      <td>0.783561</td>\n",
       "      <td>0.8</td>\n",
       "      <td>0.0591597</td>\n",
       "      <td>0.0123082</td>\n",
       "    </tr>\n",
       "    <tr>\n",
       "      <th>AdaBoostClassifier</th>\n",
       "      <td>learning_rate : 0.483293023857</td>\n",
       "      <td>{'algorithm': 'SAMME.R', 'base_estimator': Non...</td>\n",
       "      <td>0.810779</td>\n",
       "      <td>0.80373</td>\n",
       "      <td>0.80339</td>\n",
       "      <td>0.0703856</td>\n",
       "      <td>0.108272</td>\n",
       "    </tr>\n",
       "    <tr>\n",
       "      <th>LinearSVC</th>\n",
       "      <td>C : 23.3572146909</td>\n",
       "      <td>{'C': 23.357214690901213, 'class_weight': None...</td>\n",
       "      <td>0.803878</td>\n",
       "      <td>0.776835</td>\n",
       "      <td>0.759322</td>\n",
       "      <td>0.0827435</td>\n",
       "      <td>0.0305201</td>\n",
       "    </tr>\n",
       "    <tr>\n",
       "      <th>SVC</th>\n",
       "      <td>C : 2.06913808111</td>\n",
       "      <td>{'C': 2.0691380811147901, 'cache_size': 200, '...</td>\n",
       "      <td>0.846753</td>\n",
       "      <td>0.795341</td>\n",
       "      <td>0.789831</td>\n",
       "      <td>0.0584171</td>\n",
       "      <td>0.0048532</td>\n",
       "    </tr>\n",
       "    <tr>\n",
       "      <th>XGBClassifier</th>\n",
       "      <td>n_estimators : 50</td>\n",
       "      <td>{'base_score': 0.5, 'booster': 'gbtree', 'cols...</td>\n",
       "      <td>0.845077</td>\n",
       "      <td>0.801954</td>\n",
       "      <td>0.827119</td>\n",
       "      <td>0.0436521</td>\n",
       "      <td>0.0174614</td>\n",
       "    </tr>\n",
       "  </tbody>\n",
       "</table>\n",
       "</div>"
      ],
      "text/plain": [
       "                                       Best Parameters  \\\n",
       "Estimator Name                                           \n",
       "LogisticRegression                  C : 0.206913808111   \n",
       "KNeighborsClassifier                  n_neighbors : 11   \n",
       "DecisionTreeClassifier                   max_depth : 6   \n",
       "RandomForestClassifier                  max_depth : 11   \n",
       "AdaBoostClassifier      learning_rate : 0.483293023857   \n",
       "LinearSVC                            C : 23.3572146909   \n",
       "SVC                                  C : 2.06913808111   \n",
       "XGBClassifier                        n_estimators : 50   \n",
       "\n",
       "                                                      All Best Parameters  \\\n",
       "Estimator Name                                                              \n",
       "LogisticRegression      {'C': 0.20691380811147897, 'class_weight': Non...   \n",
       "KNeighborsClassifier    {'algorithm': 'auto', 'leaf_size': 30, 'metric...   \n",
       "DecisionTreeClassifier  {'class_weight': None, 'criterion': 'gini', 'm...   \n",
       "RandomForestClassifier  {'bootstrap': True, 'class_weight': None, 'cri...   \n",
       "AdaBoostClassifier      {'algorithm': 'SAMME.R', 'base_estimator': Non...   \n",
       "LinearSVC               {'C': 23.357214690901213, 'class_weight': None...   \n",
       "SVC                     {'C': 2.0691380811147901, 'cache_size': 200, '...   \n",
       "XGBClassifier           {'base_score': 0.5, 'booster': 'gbtree', 'cols...   \n",
       "\n",
       "                       Train Score Mean CV Score Mean Test Score Mean  \\\n",
       "Estimator Name                                                          \n",
       "LogisticRegression             0.808538      0.798701         0.80339   \n",
       "KNeighborsClassifier           0.813571      0.791869        0.776271   \n",
       "DecisionTreeClassifier         0.842467      0.791644        0.769492   \n",
       "RandomForestClassifier         0.849175      0.783561             0.8   \n",
       "AdaBoostClassifier             0.810779       0.80373         0.80339   \n",
       "LinearSVC                      0.803878      0.776835        0.759322   \n",
       "SVC                            0.846753      0.795341        0.789831   \n",
       "XGBClassifier                  0.845077      0.801954        0.827119   \n",
       "\n",
       "                       CV Score STD Fitting Time Mean  \n",
       "Estimator Name                                         \n",
       "LogisticRegression        0.0737507        0.00210142  \n",
       "KNeighborsClassifier      0.0420876         0.0018512  \n",
       "DecisionTreeClassifier    0.0691206        0.00150099  \n",
       "RandomForestClassifier    0.0591597         0.0123082  \n",
       "AdaBoostClassifier        0.0703856          0.108272  \n",
       "LinearSVC                 0.0827435         0.0305201  \n",
       "SVC                       0.0584171         0.0048532  \n",
       "XGBClassifier             0.0436521         0.0174614  "
      ]
     },
     "execution_count": 63,
     "metadata": {},
     "output_type": "execute_result"
    }
   ],
   "source": [
    "import warnings\n",
    "warnings.filterwarnings(\"ignore\", category=RuntimeWarning)\n",
    "\n",
    "# list of pre-processing transformer\n",
    "preprocess_steps = [StandardScaler()]\n",
    "\n",
    "# list of estimators to be trial\n",
    "estimators = [LogisticRegression(),\n",
    "              KNeighborsClassifier(),\n",
    "              DecisionTreeClassifier(),\n",
    "              RandomForestClassifier(),\n",
    "              AdaBoostClassifier(),\n",
    "              LinearSVC(),\n",
    "              SVC(),\n",
    "              XGBClassifier()\n",
    "             ]\n",
    "\n",
    "# dictionnaries of parameters grid\n",
    "log_reg_params = {'penalty':['l2', 'l1'], 'C': np.logspace(-1,2,20)}\n",
    "kneigh_params = {'n_neighbors':list(range(1,15))}\n",
    "tree_param = {'criterion':['gini', 'entropy'], 'splitter':['best', 'random'], 'max_depth':list(range(1,12))}\n",
    "forest_param = {'n_estimators':[10,20,50,100], 'criterion':['gini', 'entropy'], 'max_depth':list(range(1,12))}\n",
    "adaboost_param = {'n_estimators':[50,100], 'learning_rate':np.logspace(-2,2,20)}\n",
    "lin_SVC_param = {'loss':['hinge', 'squared_hinge'], 'C': np.logspace(-2,2,20)}\n",
    "SVC_param = {'kernel':['poly', 'rbf'], 'C': np.logspace(-2,2,20)}\n",
    "xgb_clf_param = {'max_depth':[2,3,4,5], 'learning_rate':np.logspace(-2,2,10), 'n_estimators':[50,100,200]}\n",
    "\n",
    "# list of dictionnay of parameters grid\n",
    "params_list = [log_reg_params, kneigh_params, tree_param, forest_param, adaboost_param, lin_SVC_param, SVC_param, xgb_clf_param]\n",
    "\n",
    "results_df, best_estimators = multi_estimators_gridsearch(preprocess_steps, estimators, params_list, X_train, y_train, X_test, y_test, grid_cv=5)\n",
    "results_df"
   ]
  },
  {
   "cell_type": "markdown",
   "metadata": {},
   "source": [
    "We can also try to add an other pre-processing step : PolynomialFeatures(degree=2). This transformation will add the polynome of order 2, from our original features."
   ]
  },
  {
   "cell_type": "code",
   "execution_count": 64,
   "metadata": {
    "scrolled": false
   },
   "outputs": [
    {
     "name": "stdout",
     "output_type": "stream",
     "text": [
      "LogisticRegression DONE\n",
      "KNeighborsClassifier DONE\n",
      "DecisionTreeClassifier DONE\n",
      "RandomForestClassifier DONE\n",
      "AdaBoostClassifier DONE\n",
      "LinearSVC DONE\n",
      "SVC DONE\n",
      "XGBClassifier DONE\n"
     ]
    },
    {
     "data": {
      "text/html": [
       "<div>\n",
       "<style>\n",
       "    .dataframe thead tr:only-child th {\n",
       "        text-align: right;\n",
       "    }\n",
       "\n",
       "    .dataframe thead th {\n",
       "        text-align: left;\n",
       "    }\n",
       "\n",
       "    .dataframe tbody tr th {\n",
       "        vertical-align: top;\n",
       "    }\n",
       "</style>\n",
       "<table border=\"1\" class=\"dataframe\">\n",
       "  <thead>\n",
       "    <tr style=\"text-align: right;\">\n",
       "      <th></th>\n",
       "      <th>Best Parameters</th>\n",
       "      <th>All Best Parameters</th>\n",
       "      <th>Train Score Mean</th>\n",
       "      <th>CV Score Mean</th>\n",
       "      <th>Test Score Mean</th>\n",
       "      <th>CV Score STD</th>\n",
       "      <th>Fitting Time Mean</th>\n",
       "    </tr>\n",
       "    <tr>\n",
       "      <th>Estimator Name</th>\n",
       "      <th></th>\n",
       "      <th></th>\n",
       "      <th></th>\n",
       "      <th></th>\n",
       "      <th></th>\n",
       "      <th></th>\n",
       "      <th></th>\n",
       "    </tr>\n",
       "  </thead>\n",
       "  <tbody>\n",
       "    <tr>\n",
       "      <th>LogisticRegression</th>\n",
       "      <td>C : 0.206913808111</td>\n",
       "      <td>{'C': 0.20691380811147897, 'class_weight': Non...</td>\n",
       "      <td>0.835756</td>\n",
       "      <td>0.796951</td>\n",
       "      <td>0.80678</td>\n",
       "      <td>0.0545774</td>\n",
       "      <td>0.00930612</td>\n",
       "    </tr>\n",
       "    <tr>\n",
       "      <th>KNeighborsClassifier</th>\n",
       "      <td>n_neighbors : 10</td>\n",
       "      <td>{'algorithm': 'auto', 'leaf_size': 30, 'metric...</td>\n",
       "      <td>0.81525</td>\n",
       "      <td>0.786783</td>\n",
       "      <td>0.772881</td>\n",
       "      <td>0.0562095</td>\n",
       "      <td>0.00430281</td>\n",
       "    </tr>\n",
       "    <tr>\n",
       "      <th>DecisionTreeClassifier</th>\n",
       "      <td>max_depth : 6</td>\n",
       "      <td>{'class_weight': None, 'criterion': 'gini', 'm...</td>\n",
       "      <td>0.838745</td>\n",
       "      <td>0.803509</td>\n",
       "      <td>0.810169</td>\n",
       "      <td>0.0524044</td>\n",
       "      <td>0.00405262</td>\n",
       "    </tr>\n",
       "    <tr>\n",
       "      <th>RandomForestClassifier</th>\n",
       "      <td>max_depth : 6</td>\n",
       "      <td>{'bootstrap': True, 'class_weight': None, 'cri...</td>\n",
       "      <td>0.843958</td>\n",
       "      <td>0.813706</td>\n",
       "      <td>0.820339</td>\n",
       "      <td>0.0522038</td>\n",
       "      <td>0.0574383</td>\n",
       "    </tr>\n",
       "    <tr>\n",
       "      <th>AdaBoostClassifier</th>\n",
       "      <td>learning_rate : 1.2742749857</td>\n",
       "      <td>{'algorithm': 'SAMME.R', 'base_estimator': Non...</td>\n",
       "      <td>0.827929</td>\n",
       "      <td>0.785226</td>\n",
       "      <td>0.80339</td>\n",
       "      <td>0.0719456</td>\n",
       "      <td>0.0685955</td>\n",
       "    </tr>\n",
       "    <tr>\n",
       "      <th>LinearSVC</th>\n",
       "      <td>C : 0.0263665089873</td>\n",
       "      <td>{'C': 0.026366508987303583, 'class_weight': No...</td>\n",
       "      <td>0.837247</td>\n",
       "      <td>0.793645</td>\n",
       "      <td>0.816949</td>\n",
       "      <td>0.0634677</td>\n",
       "      <td>0.0147599</td>\n",
       "    </tr>\n",
       "    <tr>\n",
       "      <th>SVC</th>\n",
       "      <td>C : 3.35981828628</td>\n",
       "      <td>{'C': 3.3598182862837809, 'cache_size': 200, '...</td>\n",
       "      <td>0.846755</td>\n",
       "      <td>0.800259</td>\n",
       "      <td>0.79661</td>\n",
       "      <td>0.0519268</td>\n",
       "      <td>0.0137092</td>\n",
       "    </tr>\n",
       "    <tr>\n",
       "      <th>XGBClassifier</th>\n",
       "      <td>n_estimators : 50</td>\n",
       "      <td>{'base_score': 0.5, 'booster': 'gbtree', 'cols...</td>\n",
       "      <td>0.845263</td>\n",
       "      <td>0.800202</td>\n",
       "      <td>0.823729</td>\n",
       "      <td>0.0592535</td>\n",
       "      <td>0.0764008</td>\n",
       "    </tr>\n",
       "  </tbody>\n",
       "</table>\n",
       "</div>"
      ],
      "text/plain": [
       "                                     Best Parameters  \\\n",
       "Estimator Name                                         \n",
       "LogisticRegression                C : 0.206913808111   \n",
       "KNeighborsClassifier                n_neighbors : 10   \n",
       "DecisionTreeClassifier                 max_depth : 6   \n",
       "RandomForestClassifier                 max_depth : 6   \n",
       "AdaBoostClassifier      learning_rate : 1.2742749857   \n",
       "LinearSVC                        C : 0.0263665089873   \n",
       "SVC                                C : 3.35981828628   \n",
       "XGBClassifier                      n_estimators : 50   \n",
       "\n",
       "                                                      All Best Parameters  \\\n",
       "Estimator Name                                                              \n",
       "LogisticRegression      {'C': 0.20691380811147897, 'class_weight': Non...   \n",
       "KNeighborsClassifier    {'algorithm': 'auto', 'leaf_size': 30, 'metric...   \n",
       "DecisionTreeClassifier  {'class_weight': None, 'criterion': 'gini', 'm...   \n",
       "RandomForestClassifier  {'bootstrap': True, 'class_weight': None, 'cri...   \n",
       "AdaBoostClassifier      {'algorithm': 'SAMME.R', 'base_estimator': Non...   \n",
       "LinearSVC               {'C': 0.026366508987303583, 'class_weight': No...   \n",
       "SVC                     {'C': 3.3598182862837809, 'cache_size': 200, '...   \n",
       "XGBClassifier           {'base_score': 0.5, 'booster': 'gbtree', 'cols...   \n",
       "\n",
       "                       Train Score Mean CV Score Mean Test Score Mean  \\\n",
       "Estimator Name                                                          \n",
       "LogisticRegression             0.835756      0.796951         0.80678   \n",
       "KNeighborsClassifier            0.81525      0.786783        0.772881   \n",
       "DecisionTreeClassifier         0.838745      0.803509        0.810169   \n",
       "RandomForestClassifier         0.843958      0.813706        0.820339   \n",
       "AdaBoostClassifier             0.827929      0.785226         0.80339   \n",
       "LinearSVC                      0.837247      0.793645        0.816949   \n",
       "SVC                            0.846755      0.800259         0.79661   \n",
       "XGBClassifier                  0.845263      0.800202        0.823729   \n",
       "\n",
       "                       CV Score STD Fitting Time Mean  \n",
       "Estimator Name                                         \n",
       "LogisticRegression        0.0545774        0.00930612  \n",
       "KNeighborsClassifier      0.0562095        0.00430281  \n",
       "DecisionTreeClassifier    0.0524044        0.00405262  \n",
       "RandomForestClassifier    0.0522038         0.0574383  \n",
       "AdaBoostClassifier        0.0719456         0.0685955  \n",
       "LinearSVC                 0.0634677         0.0147599  \n",
       "SVC                       0.0519268         0.0137092  \n",
       "XGBClassifier             0.0592535         0.0764008  "
      ]
     },
     "execution_count": 64,
     "metadata": {},
     "output_type": "execute_result"
    }
   ],
   "source": [
    "import warnings\n",
    "warnings.filterwarnings(\"ignore\", category=RuntimeWarning)\n",
    "\n",
    "# list of pre-processing transformer\n",
    "preprocess_steps = [PolynomialFeatures(degree=2), StandardScaler()]\n",
    "\n",
    "# list of estimators to be trial\n",
    "estimators = [LogisticRegression(),\n",
    "              KNeighborsClassifier(),\n",
    "              DecisionTreeClassifier(),\n",
    "              RandomForestClassifier(),\n",
    "              AdaBoostClassifier(),\n",
    "              LinearSVC(),\n",
    "              SVC(),\n",
    "              XGBClassifier()\n",
    "             ]\n",
    "\n",
    "# dictionnaries of parameters grid\n",
    "log_reg_params = {'penalty':['l2', 'l1'], 'C': np.logspace(-1,2,20)}\n",
    "kneigh_params = {'n_neighbors':list(range(1,15))}\n",
    "tree_param = {'criterion':['gini', 'entropy'], 'splitter':['best', 'random'], 'max_depth':list(range(1,12))}\n",
    "forest_param = {'n_estimators':[10,20,50,100], 'criterion':['gini', 'entropy'], 'max_depth':list(range(1,12))}\n",
    "adaboost_param = {'n_estimators':[50,100], 'learning_rate':np.logspace(-2,2,20)}\n",
    "lin_SVC_param = {'loss':['hinge', 'squared_hinge'], 'C': np.logspace(-2,2,20)}\n",
    "SVC_param = {'kernel':['poly', 'rbf'], 'C': np.logspace(-2,2,20)}\n",
    "xgb_clf_param = {'max_depth':[2,3,4,5], 'learning_rate':np.logspace(-2,2,10), 'n_estimators':[50,100,200]}\n",
    "\n",
    "# list of dictionnay of parameters grid\n",
    "params_list = [log_reg_params, kneigh_params, tree_param, forest_param, adaboost_param, lin_SVC_param, SVC_param, xgb_clf_param]\n",
    "\n",
    "results_df_poly2, best_estimators_poly2 = multi_estimators_gridsearch(preprocess_steps, estimators, params_list, X_train, y_train, X_test, y_test, grid_cv=5)\n",
    "results_df_poly2"
   ]
  },
  {
   "cell_type": "markdown",
   "metadata": {},
   "source": [
    "We observe an higher accuracy in general, for the models with the polymial features, except for KNeighborsClassifier, which wasn't very good already without the polynomial preprocessing step.\n",
    "\n",
    "Using the XGBClassifier with polynomial features give us a top 22% position on the leaderboard of the Kaggle competition.\n",
    "\n",
    "### Voting Classifier\n",
    "\n",
    "We built a large number of estimators, we could now try to benefit from all these estimators by creating a voting classifier, which will make a prediction by selecting the prediction the most frequent given from all our estimators."
   ]
  },
  {
   "cell_type": "code",
   "execution_count": 65,
   "metadata": {
    "collapsed": true
   },
   "outputs": [],
   "source": [
    "from sklearn.ensemble import VotingClassifier\n",
    "\n",
    "# we will select all estimators, except KNeighborsClassifier, which gave poor accuracy\n",
    "estimators_keys = [key for key in best_estimators.keys() if key != 'KNeighborsClassifier']\n",
    "estimators=[]\n",
    "for key in estimators_keys:\n",
    "    estimators.append((key, best_estimators[key]))\n",
    "    estimators.append((key+'_poly', best_estimators_poly2[key]))\n",
    "\n",
    "voting_clf = VotingClassifier(estimators=estimators, voting='hard')"
   ]
  },
  {
   "cell_type": "code",
   "execution_count": 66,
   "metadata": {},
   "outputs": [
    {
     "name": "stdout",
     "output_type": "stream",
     "text": [
      "scores mean :  0.798646383255\n",
      "scores std :  0.0623643458161\n"
     ]
    }
   ],
   "source": [
    "from sklearn.model_selection import cross_val_score\n",
    "\n",
    "scores = cross_val_score(voting_clf, X_train, y_train, cv=10)\n",
    "print('scores mean : ', np.mean(scores))\n",
    "print('scores std : ', np.std(scores))"
   ]
  },
  {
   "cell_type": "markdown",
   "metadata": {},
   "source": [
    "These results are worse than for most of our single estimators, unfortunately.\n",
    "\n",
    "We can also try a *soft* voting classifier, which use estimators who can predict a probability."
   ]
  },
  {
   "cell_type": "code",
   "execution_count": 67,
   "metadata": {
    "collapsed": true
   },
   "outputs": [],
   "source": [
    "# we will select all estimators, except KNeighborsClassifier, which gave poor accuracy\n",
    "estimators_keys = ['LogisticRegression', 'DecisionTreeClassifier', 'RandomForestClassifier', 'AdaBoostClassifier', 'XGBClassifier']\n",
    "estimators=[]\n",
    "for key in estimators_keys:\n",
    "    estimators.append((key, best_estimators[key]))\n",
    "    estimators.append((key+'_poly', best_estimators_poly2[key]))\n",
    "\n",
    "voting_clf_soft = VotingClassifier(estimators=estimators, voting='soft')"
   ]
  },
  {
   "cell_type": "code",
   "execution_count": 68,
   "metadata": {},
   "outputs": [
    {
     "name": "stdout",
     "output_type": "stream",
     "text": [
      "scores mean :  0.806925071779\n",
      "scores std :  0.063474821243\n"
     ]
    }
   ],
   "source": [
    "scores = cross_val_score(voting_clf_soft, X_train, y_train, cv=10)\n",
    "print('scores mean : ', np.mean(scores))\n",
    "print('scores std : ', np.std(scores))"
   ]
  },
  {
   "cell_type": "markdown",
   "metadata": {},
   "source": [
    "These results are not really convincing either."
   ]
  },
  {
   "cell_type": "markdown",
   "metadata": {},
   "source": [
    "# 4. Submission of results\n",
    "\n",
    "Finally our best models seems to be AdaBoostClassifier, XGBClassifier, LogisticRegression, which seems to perform slighlty better if we take into account the polynomial features of second order."
   ]
  },
  {
   "cell_type": "code",
   "execution_count": 69,
   "metadata": {
    "collapsed": true
   },
   "outputs": [],
   "source": [
    "best_estimator = best_estimators_poly2['XGBClassifier']\n",
    "best_estimator.fit(X, y)\n",
    "y_submission = best_estimator.predict(X_submission)\n",
    "\n",
    "submission_df = pd.DataFrame({'PassengerId':X_submission.index, 'Survived':y_submission})\n",
    "submission_df.to_csv('Data/submission.csv', index=False)"
   ]
  },
  {
   "cell_type": "code",
   "execution_count": null,
   "metadata": {
    "collapsed": true
   },
   "outputs": [],
   "source": []
  }
 ],
 "metadata": {
  "kernelspec": {
   "display_name": "Python [conda env:Anaconda3]",
   "language": "python",
   "name": "conda-env-Anaconda3-py"
  },
  "language_info": {
   "codemirror_mode": {
    "name": "ipython",
    "version": 3
   },
   "file_extension": ".py",
   "mimetype": "text/x-python",
   "name": "python",
   "nbconvert_exporter": "python",
   "pygments_lexer": "ipython3",
   "version": "3.6.3"
  }
 },
 "nbformat": 4,
 "nbformat_minor": 2
}
